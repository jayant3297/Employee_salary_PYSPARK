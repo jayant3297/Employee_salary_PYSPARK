{
 "cells": [
  {
   "cell_type": "code",
   "execution_count": 1,
   "id": "7e805cb8",
   "metadata": {
    "_cell_guid": "b1076dfc-b9ad-4769-8c92-a6c4dae69d19",
    "_uuid": "8f2839f25d086af736a60e9eeb907d3b93b6e0e5",
    "execution": {
     "iopub.execute_input": "2023-01-03T06:08:52.653524Z",
     "iopub.status.busy": "2023-01-03T06:08:52.652819Z",
     "iopub.status.idle": "2023-01-03T06:08:52.676713Z",
     "shell.execute_reply": "2023-01-03T06:08:52.675353Z"
    },
    "papermill": {
     "duration": 0.051003,
     "end_time": "2023-01-03T06:08:52.681394",
     "exception": false,
     "start_time": "2023-01-03T06:08:52.630391",
     "status": "completed"
    },
    "tags": []
   },
   "outputs": [
    {
     "name": "stdout",
     "output_type": "stream",
     "text": [
      "/kaggle/input/salarypredictions/train_dataset.csv\n",
      "/kaggle/input/salarypredictions/test_dataset.csv\n",
      "/kaggle/input/salarypredictions/train_salaries.csv\n"
     ]
    }
   ],
   "source": [
    "# This Python 3 environment comes with many helpful analytics libraries installed\n",
    "# It is defined by the kaggle/python Docker image: https://github.com/kaggle/docker-python\n",
    "# For example, here's several helpful packages to load\n",
    "\n",
    "import numpy as np # linear algebra\n",
    "import pandas as pd # data processing, CSV file I/O (e.g. pd.read_csv)\n",
    "\n",
    "# Input data files are available in the read-only \"../input/\" directory\n",
    "# For example, running this (by clicking run or pressing Shift+Enter) will list all files under the input directory\n",
    "\n",
    "import os\n",
    "for dirname, _, filenames in os.walk('/kaggle/input'):\n",
    "    for filename in filenames:\n",
    "        print(os.path.join(dirname, filename))\n",
    "\n",
    "# You can write up to 20GB to the current directory (/kaggle/working/) that gets preserved as output when you create a version using \"Save & Run All\" \n",
    "# You can also write temporary files to /kaggle/temp/, but they won't be saved outside of the current session"
   ]
  },
  {
   "cell_type": "code",
   "execution_count": 2,
   "id": "82197143",
   "metadata": {
    "execution": {
     "iopub.execute_input": "2023-01-03T06:08:52.724175Z",
     "iopub.status.busy": "2023-01-03T06:08:52.723181Z",
     "iopub.status.idle": "2023-01-03T06:09:57.000863Z",
     "shell.execute_reply": "2023-01-03T06:09:56.999341Z"
    },
    "papermill": {
     "duration": 64.302745,
     "end_time": "2023-01-03T06:09:57.003833",
     "exception": false,
     "start_time": "2023-01-03T06:08:52.701088",
     "status": "completed"
    },
    "tags": []
   },
   "outputs": [
    {
     "name": "stdout",
     "output_type": "stream",
     "text": [
      "Collecting pyspark\r\n",
      "  Downloading pyspark-3.3.1.tar.gz (281.4 MB)\r\n",
      "\u001b[2K     \u001b[90m━━━━━━━━━━━━━━━━━━━━━━━━━━━━━━━━━━━━━━━\u001b[0m \u001b[32m281.4/281.4 MB\u001b[0m \u001b[31m3.5 MB/s\u001b[0m eta \u001b[36m0:00:00\u001b[0m\r\n",
      "\u001b[?25h  Preparing metadata (setup.py) ... \u001b[?25l-\b \bdone\r\n",
      "\u001b[?25hCollecting py4j==0.10.9.5\r\n",
      "  Downloading py4j-0.10.9.5-py2.py3-none-any.whl (199 kB)\r\n",
      "\u001b[2K     \u001b[90m━━━━━━━━━━━━━━━━━━━━━━━━━━━━━━━━━━━━━━\u001b[0m \u001b[32m199.7/199.7 kB\u001b[0m \u001b[31m11.2 MB/s\u001b[0m eta \u001b[36m0:00:00\u001b[0m\r\n",
      "\u001b[?25hBuilding wheels for collected packages: pyspark\r\n",
      "  Building wheel for pyspark (setup.py) ... \u001b[?25l-\b \b\\\b \b|\b \b/\b \b-\b \b\\\b \b|\b \b/\b \b-\b \b\\\b \b|\b \b/\b \b-\b \b\\\b \b|\b \b/\b \b-\b \b\\\b \b|\b \b/\b \b-\b \b\\\b \b|\b \b/\b \b-\b \b\\\b \b|\b \b/\b \b-\b \b\\\b \b|\b \b/\b \b-\b \b\\\b \b|\b \b/\b \b-\b \b\\\b \b|\b \b/\b \b-\b \b\\\b \b|\b \b/\b \b-\b \b\\\b \b|\b \b/\b \b-\b \b\\\b \b|\b \b/\b \b-\b \b\\\b \b|\b \b/\b \b-\b \b\\\b \b|\b \b/\b \bdone\r\n",
      "\u001b[?25h  Created wheel for pyspark: filename=pyspark-3.3.1-py2.py3-none-any.whl size=281845513 sha256=8cc76fa62c11245fb8213da7d944e9d6487d8bc8ea6998b13952f45599843197\r\n",
      "  Stored in directory: /root/.cache/pip/wheels/42/59/f5/79a5bf931714dcd201b26025347785f087370a10a3329a899c\r\n",
      "Successfully built pyspark\r\n",
      "Installing collected packages: py4j, pyspark\r\n",
      "  Attempting uninstall: py4j\r\n",
      "    Found existing installation: py4j 0.10.9.7\r\n",
      "    Uninstalling py4j-0.10.9.7:\r\n",
      "      Successfully uninstalled py4j-0.10.9.7\r\n",
      "Successfully installed py4j-0.10.9.5 pyspark-3.3.1\r\n",
      "\u001b[33mWARNING: Running pip as the 'root' user can result in broken permissions and conflicting behaviour with the system package manager. It is recommended to use a virtual environment instead: https://pip.pypa.io/warnings/venv\u001b[0m\u001b[33m\r\n",
      "\u001b[0m"
     ]
    }
   ],
   "source": [
    "!pip install pyspark"
   ]
  },
  {
   "cell_type": "code",
   "execution_count": 3,
   "id": "446d7757",
   "metadata": {
    "execution": {
     "iopub.execute_input": "2023-01-03T06:09:57.094324Z",
     "iopub.status.busy": "2023-01-03T06:09:57.093849Z",
     "iopub.status.idle": "2023-01-03T06:10:03.199856Z",
     "shell.execute_reply": "2023-01-03T06:10:03.197651Z"
    },
    "papermill": {
     "duration": 6.155542,
     "end_time": "2023-01-03T06:10:03.202865",
     "exception": false,
     "start_time": "2023-01-03T06:09:57.047323",
     "status": "completed"
    },
    "tags": []
   },
   "outputs": [
    {
     "name": "stderr",
     "output_type": "stream",
     "text": [
      "Setting default log level to \"WARN\".\n",
      "To adjust logging level use sc.setLogLevel(newLevel). For SparkR, use setLogLevel(newLevel).\n"
     ]
    },
    {
     "name": "stdout",
     "output_type": "stream",
     "text": [
      "23/01/03 06:10:00 WARN NativeCodeLoader: Unable to load native-hadoop library for your platform... using builtin-java classes where applicable\n",
      "<pyspark.sql.session.SparkSession object at 0x7ff642d8f290>\n",
      "3.3.1\n"
     ]
    }
   ],
   "source": [
    "from pyspark.sql import *\n",
    "from pyspark.sql import SparkSession\n",
    "sc = SparkSession.builder.appName('employee_data').getOrCreate()\n",
    "print(sc)\n",
    "print(sc.version)"
   ]
  },
  {
   "cell_type": "code",
   "execution_count": 4,
   "id": "88b3febc",
   "metadata": {
    "execution": {
     "iopub.execute_input": "2023-01-03T06:10:03.295289Z",
     "iopub.status.busy": "2023-01-03T06:10:03.294390Z",
     "iopub.status.idle": "2023-01-03T06:10:04.529278Z",
     "shell.execute_reply": "2023-01-03T06:10:04.528181Z"
    },
    "papermill": {
     "duration": 1.284718,
     "end_time": "2023-01-03T06:10:04.532076",
     "exception": false,
     "start_time": "2023-01-03T06:10:03.247358",
     "status": "completed"
    },
    "tags": []
   },
   "outputs": [],
   "source": [
    "import os\n",
    "import numpy as np\n",
    "import pandas as pd\n",
    "import matplotlib.pyplot as plt\n",
    "import seaborn as sns\n",
    "import itertools\n",
    "\n",
    "plt.style.use('ggplot')\n",
    "sns.set_style(\"whitegrid\")\n",
    "\n",
    "from scipy import stats\n",
    "\n",
    "from pyspark import SparkConf, SparkContext\n",
    "from pyspark.sql import SparkSession, SQLContext\n",
    "from pyspark.ml.feature import OneHotEncoder, VectorAssembler, VectorIndexer, StringIndexer, IndexToString\n",
    "from pyspark.ml import Pipeline\n",
    "from pyspark.ml.evaluation import RegressionEvaluator \n",
    "from pyspark.ml.regression import GBTRegressor"
   ]
  },
  {
   "cell_type": "code",
   "execution_count": 5,
   "id": "ff7fbc86",
   "metadata": {
    "execution": {
     "iopub.execute_input": "2023-01-03T06:10:04.628342Z",
     "iopub.status.busy": "2023-01-03T06:10:04.627447Z",
     "iopub.status.idle": "2023-01-03T06:10:04.633545Z",
     "shell.execute_reply": "2023-01-03T06:10:04.632213Z"
    },
    "papermill": {
     "duration": 0.057691,
     "end_time": "2023-01-03T06:10:04.636022",
     "exception": false,
     "start_time": "2023-01-03T06:10:04.578331",
     "status": "completed"
    },
    "tags": []
   },
   "outputs": [],
   "source": [
    "path = '/kaggle/input/salarypredictions/'\n",
    "df_path = path + 'train_dataset.csv'\n",
    "df1_path = path + 'train_salaries.csv'"
   ]
  },
  {
   "cell_type": "code",
   "execution_count": 6,
   "id": "67b89501",
   "metadata": {
    "execution": {
     "iopub.execute_input": "2023-01-03T06:10:04.728167Z",
     "iopub.status.busy": "2023-01-03T06:10:04.727321Z",
     "iopub.status.idle": "2023-01-03T06:10:11.109012Z",
     "shell.execute_reply": "2023-01-03T06:10:11.107888Z"
    },
    "papermill": {
     "duration": 6.431096,
     "end_time": "2023-01-03T06:10:11.111808",
     "exception": false,
     "start_time": "2023-01-03T06:10:04.680712",
     "status": "completed"
    },
    "tags": []
   },
   "outputs": [
    {
     "name": "stderr",
     "output_type": "stream",
     "text": [
      "                                                                                \r"
     ]
    }
   ],
   "source": [
    "df1 = sc.read.csv(df_path, header=True).cache()"
   ]
  },
  {
   "cell_type": "code",
   "execution_count": 7,
   "id": "ecf0e971",
   "metadata": {
    "execution": {
     "iopub.execute_input": "2023-01-03T06:10:11.202609Z",
     "iopub.status.busy": "2023-01-03T06:10:11.201851Z",
     "iopub.status.idle": "2023-01-03T06:10:11.603527Z",
     "shell.execute_reply": "2023-01-03T06:10:11.602216Z"
    },
    "papermill": {
     "duration": 0.451793,
     "end_time": "2023-01-03T06:10:11.607931",
     "exception": false,
     "start_time": "2023-01-03T06:10:11.156138",
     "status": "completed"
    },
    "tags": []
   },
   "outputs": [],
   "source": [
    "df2 = sc.read.csv(df1_path, header=True).cache()"
   ]
  },
  {
   "cell_type": "code",
   "execution_count": 8,
   "id": "25e345e7",
   "metadata": {
    "execution": {
     "iopub.execute_input": "2023-01-03T06:10:11.710551Z",
     "iopub.status.busy": "2023-01-03T06:10:11.710019Z",
     "iopub.status.idle": "2023-01-03T06:10:14.935137Z",
     "shell.execute_reply": "2023-01-03T06:10:14.933250Z"
    },
    "papermill": {
     "duration": 3.275103,
     "end_time": "2023-01-03T06:10:14.939467",
     "exception": false,
     "start_time": "2023-01-03T06:10:11.664364",
     "status": "completed"
    },
    "tags": []
   },
   "outputs": [
    {
     "name": "stderr",
     "output_type": "stream",
     "text": [
      "[Stage 2:>                                                          (0 + 1) / 1]\r"
     ]
    },
    {
     "name": "stdout",
     "output_type": "stream",
     "text": [
      "+----------------+---------+--------------+-----------+----------+---------+---------------+-------------------+\n",
      "|           jobId|companyId|       jobType|     degree|     major| industry|yearsExperience|milesFromMetropolis|\n",
      "+----------------+---------+--------------+-----------+----------+---------+---------------+-------------------+\n",
      "|JOB1362684407687|   COMP37|           CFO|    MASTERS|      MATH|   HEALTH|             10|                 83|\n",
      "|JOB1362684407688|   COMP19|           CEO|HIGH_SCHOOL|      NONE|      WEB|              3|                 73|\n",
      "|JOB1362684407689|   COMP52|VICE_PRESIDENT|   DOCTORAL|   PHYSICS|   HEALTH|             10|                 38|\n",
      "|JOB1362684407690|   COMP38|       MANAGER|   DOCTORAL| CHEMISTRY|     AUTO|              8|                 17|\n",
      "|JOB1362684407691|    COMP7|VICE_PRESIDENT|  BACHELORS|   PHYSICS|  FINANCE|              8|                 16|\n",
      "|JOB1362684407692|   COMP15|       MANAGER|   DOCTORAL|   COMPSCI|  FINANCE|              2|                 31|\n",
      "|JOB1362684407693|   COMP15|           CFO|       NONE|      NONE|   HEALTH|             23|                 24|\n",
      "|JOB1362684407694|   COMP24|        JUNIOR|  BACHELORS| CHEMISTRY|EDUCATION|              9|                 70|\n",
      "|JOB1362684407695|   COMP20|       JANITOR|HIGH_SCHOOL|      NONE|EDUCATION|              1|                 54|\n",
      "|JOB1362684407696|   COMP41|VICE_PRESIDENT|  BACHELORS| CHEMISTRY|     AUTO|             17|                 68|\n",
      "|JOB1362684407697|   COMP56|       JANITOR|HIGH_SCHOOL|      NONE|   HEALTH|             24|                 30|\n",
      "|JOB1362684407698|    COMP7|           CEO|    MASTERS|   PHYSICS|EDUCATION|              7|                 79|\n",
      "|JOB1362684407699|    COMP4|        JUNIOR|       NONE|      NONE|      OIL|              8|                 29|\n",
      "|JOB1362684407700|   COMP54|        JUNIOR|    MASTERS|      MATH|  FINANCE|             21|                 26|\n",
      "|JOB1362684407701|   COMP57|       JANITOR|       NONE|      NONE|     AUTO|             21|                 81|\n",
      "|JOB1362684407702|   COMP20|           CTO|    MASTERS|   BIOLOGY|  SERVICE|             13|                  8|\n",
      "|JOB1362684407703|   COMP14|        JUNIOR|    MASTERS|   PHYSICS|  SERVICE|              1|                 91|\n",
      "|JOB1362684407704|   COMP61|VICE_PRESIDENT|    MASTERS|LITERATURE|  SERVICE|             23|                 43|\n",
      "|JOB1362684407705|   COMP58|           CEO|    MASTERS|LITERATURE|  SERVICE|             23|                 66|\n",
      "|JOB1362684407706|    COMP3|           CEO|    MASTERS|   PHYSICS|EDUCATION|              9|                 99|\n",
      "+----------------+---------+--------------+-----------+----------+---------+---------------+-------------------+\n",
      "only showing top 20 rows\n",
      "\n"
     ]
    },
    {
     "name": "stderr",
     "output_type": "stream",
     "text": [
      "                                                                                \r"
     ]
    }
   ],
   "source": [
    "df1.show()"
   ]
  },
  {
   "cell_type": "code",
   "execution_count": 9,
   "id": "2454d2b1",
   "metadata": {
    "execution": {
     "iopub.execute_input": "2023-01-03T06:10:15.031057Z",
     "iopub.status.busy": "2023-01-03T06:10:15.030641Z",
     "iopub.status.idle": "2023-01-03T06:10:16.267085Z",
     "shell.execute_reply": "2023-01-03T06:10:16.265829Z"
    },
    "papermill": {
     "duration": 1.286327,
     "end_time": "2023-01-03T06:10:16.270711",
     "exception": false,
     "start_time": "2023-01-03T06:10:14.984384",
     "status": "completed"
    },
    "tags": []
   },
   "outputs": [
    {
     "name": "stderr",
     "output_type": "stream",
     "text": [
      "[Stage 3:>                                                          (0 + 1) / 1]\r"
     ]
    },
    {
     "name": "stdout",
     "output_type": "stream",
     "text": [
      "+----------------+------+\n",
      "|           jobId|salary|\n",
      "+----------------+------+\n",
      "|JOB1362684407687|   130|\n",
      "|JOB1362684407688|   101|\n",
      "|JOB1362684407689|   137|\n",
      "|JOB1362684407690|   142|\n",
      "|JOB1362684407691|   163|\n",
      "|JOB1362684407692|   113|\n",
      "|JOB1362684407693|   178|\n",
      "|JOB1362684407694|    73|\n",
      "|JOB1362684407695|    31|\n",
      "|JOB1362684407696|   104|\n",
      "|JOB1362684407697|   102|\n",
      "|JOB1362684407698|   144|\n",
      "|JOB1362684407699|    79|\n",
      "|JOB1362684407700|   193|\n",
      "|JOB1362684407701|    47|\n",
      "|JOB1362684407702|   172|\n",
      "|JOB1362684407703|    47|\n",
      "|JOB1362684407704|   126|\n",
      "|JOB1362684407705|   122|\n",
      "|JOB1362684407706|    95|\n",
      "+----------------+------+\n",
      "only showing top 20 rows\n",
      "\n"
     ]
    },
    {
     "name": "stderr",
     "output_type": "stream",
     "text": [
      "                                                                                \r"
     ]
    }
   ],
   "source": [
    "df2.show()"
   ]
  },
  {
   "cell_type": "code",
   "execution_count": 10,
   "id": "ff1c875d",
   "metadata": {
    "execution": {
     "iopub.execute_input": "2023-01-03T06:10:16.367058Z",
     "iopub.status.busy": "2023-01-03T06:10:16.366475Z",
     "iopub.status.idle": "2023-01-03T06:10:16.381971Z",
     "shell.execute_reply": "2023-01-03T06:10:16.380528Z"
    },
    "papermill": {
     "duration": 0.069293,
     "end_time": "2023-01-03T06:10:16.386709",
     "exception": false,
     "start_time": "2023-01-03T06:10:16.317416",
     "status": "completed"
    },
    "tags": []
   },
   "outputs": [
    {
     "name": "stdout",
     "output_type": "stream",
     "text": [
      "root\n",
      " |-- jobId: string (nullable = true)\n",
      " |-- companyId: string (nullable = true)\n",
      " |-- jobType: string (nullable = true)\n",
      " |-- degree: string (nullable = true)\n",
      " |-- major: string (nullable = true)\n",
      " |-- industry: string (nullable = true)\n",
      " |-- yearsExperience: string (nullable = true)\n",
      " |-- milesFromMetropolis: string (nullable = true)\n",
      "\n"
     ]
    }
   ],
   "source": [
    "df1.printSchema()"
   ]
  },
  {
   "cell_type": "code",
   "execution_count": 11,
   "id": "ed490ed1",
   "metadata": {
    "execution": {
     "iopub.execute_input": "2023-01-03T06:10:16.495271Z",
     "iopub.status.busy": "2023-01-03T06:10:16.494805Z",
     "iopub.status.idle": "2023-01-03T06:10:16.501310Z",
     "shell.execute_reply": "2023-01-03T06:10:16.500410Z"
    },
    "papermill": {
     "duration": 0.055313,
     "end_time": "2023-01-03T06:10:16.504007",
     "exception": false,
     "start_time": "2023-01-03T06:10:16.448694",
     "status": "completed"
    },
    "tags": []
   },
   "outputs": [
    {
     "name": "stdout",
     "output_type": "stream",
     "text": [
      "root\n",
      " |-- jobId: string (nullable = true)\n",
      " |-- salary: string (nullable = true)\n",
      "\n"
     ]
    }
   ],
   "source": [
    "df2.printSchema()"
   ]
  },
  {
   "cell_type": "code",
   "execution_count": 12,
   "id": "c53125fb",
   "metadata": {
    "execution": {
     "iopub.execute_input": "2023-01-03T06:10:16.596895Z",
     "iopub.status.busy": "2023-01-03T06:10:16.595974Z",
     "iopub.status.idle": "2023-01-03T06:10:16.680227Z",
     "shell.execute_reply": "2023-01-03T06:10:16.679238Z"
    },
    "papermill": {
     "duration": 0.13486,
     "end_time": "2023-01-03T06:10:16.684148",
     "exception": false,
     "start_time": "2023-01-03T06:10:16.549288",
     "status": "completed"
    },
    "tags": []
   },
   "outputs": [],
   "source": [
    "df1 = df1.withColumn(\"yearsExperience\",df1.yearsExperience.cast('int'))\n",
    "df1 = df1.withColumn(\"milesFromMetropolis\",df1.milesFromMetropolis.cast('int'))"
   ]
  },
  {
   "cell_type": "code",
   "execution_count": 13,
   "id": "2ba46794",
   "metadata": {
    "execution": {
     "iopub.execute_input": "2023-01-03T06:10:16.778015Z",
     "iopub.status.busy": "2023-01-03T06:10:16.777535Z",
     "iopub.status.idle": "2023-01-03T06:10:16.794113Z",
     "shell.execute_reply": "2023-01-03T06:10:16.792758Z"
    },
    "papermill": {
     "duration": 0.065676,
     "end_time": "2023-01-03T06:10:16.796964",
     "exception": false,
     "start_time": "2023-01-03T06:10:16.731288",
     "status": "completed"
    },
    "tags": []
   },
   "outputs": [],
   "source": [
    "df2 = df2.withColumn(\"salary\", df2.salary.cast('int'))"
   ]
  },
  {
   "cell_type": "code",
   "execution_count": 14,
   "id": "6ed4684b",
   "metadata": {
    "execution": {
     "iopub.execute_input": "2023-01-03T06:10:16.889220Z",
     "iopub.status.busy": "2023-01-03T06:10:16.888013Z",
     "iopub.status.idle": "2023-01-03T06:10:16.895142Z",
     "shell.execute_reply": "2023-01-03T06:10:16.893923Z"
    },
    "papermill": {
     "duration": 0.056128,
     "end_time": "2023-01-03T06:10:16.898179",
     "exception": false,
     "start_time": "2023-01-03T06:10:16.842051",
     "status": "completed"
    },
    "tags": []
   },
   "outputs": [
    {
     "name": "stdout",
     "output_type": "stream",
     "text": [
      "root\n",
      " |-- jobId: string (nullable = true)\n",
      " |-- companyId: string (nullable = true)\n",
      " |-- jobType: string (nullable = true)\n",
      " |-- degree: string (nullable = true)\n",
      " |-- major: string (nullable = true)\n",
      " |-- industry: string (nullable = true)\n",
      " |-- yearsExperience: integer (nullable = true)\n",
      " |-- milesFromMetropolis: integer (nullable = true)\n",
      "\n"
     ]
    }
   ],
   "source": [
    "df1.printSchema()"
   ]
  },
  {
   "cell_type": "code",
   "execution_count": 15,
   "id": "1e4a3573",
   "metadata": {
    "execution": {
     "iopub.execute_input": "2023-01-03T06:10:16.990079Z",
     "iopub.status.busy": "2023-01-03T06:10:16.989680Z",
     "iopub.status.idle": "2023-01-03T06:10:16.996381Z",
     "shell.execute_reply": "2023-01-03T06:10:16.995025Z"
    },
    "papermill": {
     "duration": 0.055369,
     "end_time": "2023-01-03T06:10:16.999103",
     "exception": false,
     "start_time": "2023-01-03T06:10:16.943734",
     "status": "completed"
    },
    "tags": []
   },
   "outputs": [
    {
     "name": "stdout",
     "output_type": "stream",
     "text": [
      "root\n",
      " |-- jobId: string (nullable = true)\n",
      " |-- salary: integer (nullable = true)\n",
      "\n"
     ]
    }
   ],
   "source": [
    "df2.printSchema()"
   ]
  },
  {
   "cell_type": "code",
   "execution_count": 16,
   "id": "ec2aaa31",
   "metadata": {
    "execution": {
     "iopub.execute_input": "2023-01-03T06:10:17.091001Z",
     "iopub.status.busy": "2023-01-03T06:10:17.090585Z",
     "iopub.status.idle": "2023-01-03T06:10:17.154152Z",
     "shell.execute_reply": "2023-01-03T06:10:17.152845Z"
    },
    "papermill": {
     "duration": 0.113545,
     "end_time": "2023-01-03T06:10:17.157191",
     "exception": false,
     "start_time": "2023-01-03T06:10:17.043646",
     "status": "completed"
    },
    "tags": []
   },
   "outputs": [],
   "source": [
    "df2 = df2.withColumnRenamed('jobId', 'job_id')\n",
    "df = df1.join(df2, df1.jobId==df2.job_id)\n",
    "df = df.drop('job_id')"
   ]
  },
  {
   "cell_type": "code",
   "execution_count": 17,
   "id": "d6ba8da6",
   "metadata": {
    "execution": {
     "iopub.execute_input": "2023-01-03T06:10:17.249109Z",
     "iopub.status.busy": "2023-01-03T06:10:17.248704Z",
     "iopub.status.idle": "2023-01-03T06:10:24.794913Z",
     "shell.execute_reply": "2023-01-03T06:10:24.793658Z"
    },
    "papermill": {
     "duration": 7.596051,
     "end_time": "2023-01-03T06:10:24.798664",
     "exception": false,
     "start_time": "2023-01-03T06:10:17.202613",
     "status": "completed"
    },
    "tags": []
   },
   "outputs": [
    {
     "name": "stderr",
     "output_type": "stream",
     "text": [
      "[Stage 8:>                                                          (0 + 1) / 1]\r"
     ]
    },
    {
     "name": "stdout",
     "output_type": "stream",
     "text": [
      "+----------------+---------+--------------+-----------+---------+---------+---------------+-------------------+------+\n",
      "|           jobId|companyId|       jobType|     degree|    major| industry|yearsExperience|milesFromMetropolis|salary|\n",
      "+----------------+---------+--------------+-----------+---------+---------+---------------+-------------------+------+\n",
      "|JOB1362684407687|   COMP37|           CFO|    MASTERS|     MATH|   HEALTH|             10|                 83|   130|\n",
      "|JOB1362684407688|   COMP19|           CEO|HIGH_SCHOOL|     NONE|      WEB|              3|                 73|   101|\n",
      "|JOB1362684407693|   COMP15|           CFO|       NONE|     NONE|   HEALTH|             23|                 24|   178|\n",
      "|JOB1362684407695|   COMP20|       JANITOR|HIGH_SCHOOL|     NONE|EDUCATION|              1|                 54|    31|\n",
      "|JOB1362684407696|   COMP41|VICE_PRESIDENT|  BACHELORS|CHEMISTRY|     AUTO|             17|                 68|   104|\n",
      "+----------------+---------+--------------+-----------+---------+---------+---------------+-------------------+------+\n",
      "only showing top 5 rows\n",
      "\n"
     ]
    },
    {
     "name": "stderr",
     "output_type": "stream",
     "text": [
      "                                                                                \r"
     ]
    }
   ],
   "source": [
    "df.show(5)"
   ]
  },
  {
   "cell_type": "code",
   "execution_count": 18,
   "id": "3bbfd4b6",
   "metadata": {
    "execution": {
     "iopub.execute_input": "2023-01-03T06:10:24.932738Z",
     "iopub.status.busy": "2023-01-03T06:10:24.932061Z",
     "iopub.status.idle": "2023-01-03T06:10:31.895765Z",
     "shell.execute_reply": "2023-01-03T06:10:31.894303Z"
    },
    "papermill": {
     "duration": 7.032188,
     "end_time": "2023-01-03T06:10:31.899663",
     "exception": false,
     "start_time": "2023-01-03T06:10:24.867475",
     "status": "completed"
    },
    "tags": []
   },
   "outputs": [
    {
     "name": "stderr",
     "output_type": "stream",
     "text": [
      "[Stage 16:>                                                         (0 + 3) / 3]\r"
     ]
    },
    {
     "name": "stdout",
     "output_type": "stream",
     "text": [
      "+---------------+-------------------+---------+-------+------+-----+--------+-----+\n",
      "|yearsExperience|milesFromMetropolis|companyId|jobType|degree|major|industry|jobId|\n",
      "+---------------+-------------------+---------+-------+------+-----+--------+-----+\n",
      "+---------------+-------------------+---------+-------+------+-----+--------+-----+\n",
      "\n"
     ]
    },
    {
     "name": "stderr",
     "output_type": "stream",
     "text": [
      "                                                                                \r"
     ]
    }
   ],
   "source": [
    "df_dup=df.groupBy(\"yearsExperience\", \"milesFromMetropolis\",\"companyId\",\"jobType\", \"degree\", \"major\", \"industry\", \"jobId\").count().filter(\"count > 1\")\n",
    "df_dup.drop('count').show()"
   ]
  },
  {
   "cell_type": "code",
   "execution_count": 19,
   "id": "451f9d18",
   "metadata": {
    "execution": {
     "iopub.execute_input": "2023-01-03T06:10:32.006095Z",
     "iopub.status.busy": "2023-01-03T06:10:32.005674Z",
     "iopub.status.idle": "2023-01-03T06:10:38.624238Z",
     "shell.execute_reply": "2023-01-03T06:10:38.621809Z"
    },
    "papermill": {
     "duration": 6.671091,
     "end_time": "2023-01-03T06:10:38.629157",
     "exception": false,
     "start_time": "2023-01-03T06:10:31.958066",
     "status": "completed"
    },
    "tags": []
   },
   "outputs": [
    {
     "name": "stderr",
     "output_type": "stream",
     "text": [
      "                                                                                \r"
     ]
    },
    {
     "name": "stdout",
     "output_type": "stream",
     "text": [
      "Number of missing values for jobType: 0\n"
     ]
    },
    {
     "name": "stderr",
     "output_type": "stream",
     "text": [
      "                                                                                \r"
     ]
    },
    {
     "name": "stdout",
     "output_type": "stream",
     "text": [
      "Number of missing values for degree: 236854\n"
     ]
    },
    {
     "name": "stderr",
     "output_type": "stream",
     "text": [
      "                                                                                \r"
     ]
    },
    {
     "name": "stdout",
     "output_type": "stream",
     "text": [
      "Number of missing values for major: 532355\n",
      "Number of missing values for industry: 0\n"
     ]
    }
   ],
   "source": [
    "print('Number of missing values for jobType: {}'.format(df.filter(df.jobType=='NONE').count()))\n",
    "print('Number of missing values for degree: {}'.format(df.filter(df.degree=='NONE').count()))\n",
    "print('Number of missing values for major: {}'.format(df.filter(df.major=='NONE').count()))\n",
    "print('Number of missing values for industry: {}'.format(df.filter(df.industry=='NONE').count()))\n"
   ]
  },
  {
   "cell_type": "code",
   "execution_count": 20,
   "id": "c7bf37ad",
   "metadata": {
    "execution": {
     "iopub.execute_input": "2023-01-03T06:10:38.818027Z",
     "iopub.status.busy": "2023-01-03T06:10:38.817529Z",
     "iopub.status.idle": "2023-01-03T06:10:42.413605Z",
     "shell.execute_reply": "2023-01-03T06:10:42.411138Z"
    },
    "papermill": {
     "duration": 3.673868,
     "end_time": "2023-01-03T06:10:42.419186",
     "exception": false,
     "start_time": "2023-01-03T06:10:38.745318",
     "status": "completed"
    },
    "tags": []
   },
   "outputs": [
    {
     "name": "stderr",
     "output_type": "stream",
     "text": [
      "[Stage 47:>                                                         (0 + 4) / 4]\r"
     ]
    },
    {
     "name": "stdout",
     "output_type": "stream",
     "text": [
      "+-------+-----------------+-------------------+-----------------+\n",
      "|summary|  yearsExperience|milesFromMetropolis|           salary|\n",
      "+-------+-----------------+-------------------+-----------------+\n",
      "|  count|          1000000|            1000000|          1000000|\n",
      "|   mean|        11.992386|           49.52926|       116.061818|\n",
      "| stddev|7.212390868885673| 28.877732628720036|38.71793638113296|\n",
      "|    min|                0|                  0|                0|\n",
      "|    max|               24|                 99|              301|\n",
      "+-------+-----------------+-------------------+-----------------+\n",
      "\n"
     ]
    },
    {
     "name": "stderr",
     "output_type": "stream",
     "text": [
      "                                                                                \r"
     ]
    }
   ],
   "source": [
    "df.describe(['yearsExperience', 'milesFromMetropolis','salary']).show()"
   ]
  },
  {
   "cell_type": "code",
   "execution_count": 21,
   "id": "2f647383",
   "metadata": {
    "execution": {
     "iopub.execute_input": "2023-01-03T06:10:42.519116Z",
     "iopub.status.busy": "2023-01-03T06:10:42.517774Z",
     "iopub.status.idle": "2023-01-03T06:10:42.586273Z",
     "shell.execute_reply": "2023-01-03T06:10:42.585189Z"
    },
    "papermill": {
     "duration": 0.120271,
     "end_time": "2023-01-03T06:10:42.589453",
     "exception": false,
     "start_time": "2023-01-03T06:10:42.469182",
     "status": "completed"
    },
    "tags": []
   },
   "outputs": [],
   "source": [
    "df.createOrReplaceTempView(\"data\")"
   ]
  },
  {
   "cell_type": "code",
   "execution_count": 22,
   "id": "ac2fe4a6",
   "metadata": {
    "execution": {
     "iopub.execute_input": "2023-01-03T06:10:42.703709Z",
     "iopub.status.busy": "2023-01-03T06:10:42.702416Z",
     "iopub.status.idle": "2023-01-03T06:10:48.589572Z",
     "shell.execute_reply": "2023-01-03T06:10:48.587300Z"
    },
    "papermill": {
     "duration": 5.956921,
     "end_time": "2023-01-03T06:10:48.594160",
     "exception": false,
     "start_time": "2023-01-03T06:10:42.637239",
     "status": "completed"
    },
    "tags": []
   },
   "outputs": [
    {
     "name": "stderr",
     "output_type": "stream",
     "text": [
      "                                                                                \r"
     ]
    },
    {
     "name": "stdout",
     "output_type": "stream",
     "text": [
      "+------+-------+--------+\n",
      "|salary|jobtype|industry|\n",
      "+------+-------+--------+\n",
      "|   301|    CFO|     OIL|\n",
      "|   301|    CTO|     OIL|\n",
      "+------+-------+--------+\n",
      "\n"
     ]
    }
   ],
   "source": [
    "sc.sql('''\n",
    "    SELECT salary, jobtype, industry\n",
    "    FROM data\n",
    "    WHERE salary == (SELECT MAX(salary) FROM data)''').show()"
   ]
  },
  {
   "cell_type": "code",
   "execution_count": 23,
   "id": "7c6a52fa",
   "metadata": {
    "execution": {
     "iopub.execute_input": "2023-01-03T06:10:48.724101Z",
     "iopub.status.busy": "2023-01-03T06:10:48.723707Z",
     "iopub.status.idle": "2023-01-03T06:10:54.924604Z",
     "shell.execute_reply": "2023-01-03T06:10:54.920811Z"
    },
    "papermill": {
     "duration": 6.262733,
     "end_time": "2023-01-03T06:10:54.929237",
     "exception": false,
     "start_time": "2023-01-03T06:10:48.666504",
     "status": "completed"
    },
    "tags": []
   },
   "outputs": [
    {
     "name": "stderr",
     "output_type": "stream",
     "text": [
      "[Stage 77:=================================>                        (4 + 3) / 7]\r"
     ]
    },
    {
     "name": "stdout",
     "output_type": "stream",
     "text": [
      "+------+-------+--------+----+\n",
      "|salary|jobtype|industry|Rank|\n",
      "+------+-------+--------+----+\n",
      "|   301|    CFO|     OIL|   1|\n",
      "|   301|    CTO|     OIL|   1|\n",
      "|   298|    CEO|     OIL|   3|\n",
      "|   294|    CEO|     OIL|   4|\n",
      "|   294|    CEO| FINANCE|   1|\n",
      "|   293|    CEO|     OIL|   5|\n",
      "|   293|    CEO| FINANCE|   2|\n",
      "|   292|    CEO| FINANCE|   3|\n",
      "|   292|    CTO| FINANCE|   3|\n",
      "|   290|    CEO|     WEB|   1|\n",
      "|   289|    CTO|     WEB|   2|\n",
      "|   289|    CFO|     OIL|   6|\n",
      "|   289|    CEO| FINANCE|   5|\n",
      "|   288|    CFO| FINANCE|   6|\n",
      "|   288|    CFO| FINANCE|   6|\n",
      "|   287|    CEO|     OIL|   7|\n",
      "|   287|    CEO| FINANCE|   8|\n",
      "|   286|    CEO|     OIL|   8|\n",
      "|   286|    CTO| FINANCE|   9|\n",
      "|   286|    CEO| FINANCE|   9|\n",
      "+------+-------+--------+----+\n",
      "\n"
     ]
    },
    {
     "name": "stderr",
     "output_type": "stream",
     "text": [
      "                                                                                \r"
     ]
    }
   ],
   "source": [
    "df_q2 = sc.sql('''\n",
    "          SELECT salary, jobtype, industry, RANK() OVER(PARTITION BY industry ORDER BY salary DESC) Rank\n",
    "          FROM data\n",
    "          ORDER BY salary DESC\n",
    "          LIMIT 20''')\n",
    "df_q2.show(20)"
   ]
  },
  {
   "cell_type": "code",
   "execution_count": 24,
   "id": "d499dc23",
   "metadata": {
    "execution": {
     "iopub.execute_input": "2023-01-03T06:10:55.039138Z",
     "iopub.status.busy": "2023-01-03T06:10:55.038718Z",
     "iopub.status.idle": "2023-01-03T06:10:59.505906Z",
     "shell.execute_reply": "2023-01-03T06:10:59.504914Z"
    },
    "papermill": {
     "duration": 4.522501,
     "end_time": "2023-01-03T06:10:59.511850",
     "exception": false,
     "start_time": "2023-01-03T06:10:54.989349",
     "status": "completed"
    },
    "tags": []
   },
   "outputs": [
    {
     "name": "stderr",
     "output_type": "stream",
     "text": [
      "[Stage 87:=================================>                        (4 + 3) / 7]\r"
     ]
    },
    {
     "name": "stdout",
     "output_type": "stream",
     "text": [
      "+------+--------------+---------+----+\n",
      "|salary|       jobtype| industry|Rank|\n",
      "+------+--------------+---------+----+\n",
      "|     0|VICE_PRESIDENT|      WEB|   1|\n",
      "|     0|       MANAGER|  FINANCE|   1|\n",
      "|     0|           CTO|     AUTO|   1|\n",
      "|     0|        JUNIOR|     AUTO|   1|\n",
      "|     0|        JUNIOR|      OIL|   1|\n",
      "|    17|       JANITOR|EDUCATION|   1|\n",
      "|    18|       JANITOR|EDUCATION|   2|\n",
      "|    18|       JANITOR|EDUCATION|   2|\n",
      "|    18|       JANITOR|EDUCATION|   2|\n",
      "|    19|       JANITOR|EDUCATION|   5|\n",
      "|    19|       JANITOR|EDUCATION|   5|\n",
      "|    19|       JANITOR|EDUCATION|   5|\n",
      "|    19|       JANITOR|EDUCATION|   5|\n",
      "|    19|       JANITOR|EDUCATION|   5|\n",
      "|    19|       JANITOR|EDUCATION|   5|\n",
      "|    19|       JANITOR|EDUCATION|   5|\n",
      "|    19|       JANITOR|EDUCATION|   5|\n",
      "|    19|       JANITOR|EDUCATION|   5|\n",
      "|    19|       JANITOR|EDUCATION|   5|\n",
      "|    20|       JANITOR|EDUCATION|  15|\n",
      "+------+--------------+---------+----+\n",
      "only showing top 20 rows\n",
      "\n"
     ]
    },
    {
     "name": "stderr",
     "output_type": "stream",
     "text": [
      "                                                                                \r"
     ]
    }
   ],
   "source": [
    "sc.sql('''\n",
    "          SELECT salary, jobtype, industry, RANK() OVER(PARTITION BY industry ORDER BY salary ASC) Rank\n",
    "          FROM data\n",
    "          ORDER BY salary ASC''').show()"
   ]
  },
  {
   "cell_type": "code",
   "execution_count": 25,
   "id": "611f214b",
   "metadata": {
    "execution": {
     "iopub.execute_input": "2023-01-03T06:10:59.643343Z",
     "iopub.status.busy": "2023-01-03T06:10:59.642796Z",
     "iopub.status.idle": "2023-01-03T06:10:59.659354Z",
     "shell.execute_reply": "2023-01-03T06:10:59.657957Z"
    },
    "papermill": {
     "duration": 0.075195,
     "end_time": "2023-01-03T06:10:59.663357",
     "exception": false,
     "start_time": "2023-01-03T06:10:59.588162",
     "status": "completed"
    },
    "tags": []
   },
   "outputs": [],
   "source": [
    "df = df.where(\"salary != 0\")"
   ]
  },
  {
   "cell_type": "code",
   "execution_count": 26,
   "id": "cca9a785",
   "metadata": {
    "execution": {
     "iopub.execute_input": "2023-01-03T06:10:59.801341Z",
     "iopub.status.busy": "2023-01-03T06:10:59.800450Z",
     "iopub.status.idle": "2023-01-03T06:10:59.841755Z",
     "shell.execute_reply": "2023-01-03T06:10:59.840326Z"
    },
    "papermill": {
     "duration": 0.107522,
     "end_time": "2023-01-03T06:10:59.845101",
     "exception": false,
     "start_time": "2023-01-03T06:10:59.737579",
     "status": "completed"
    },
    "tags": []
   },
   "outputs": [],
   "source": [
    "df.createOrReplaceTempView(\"data\")"
   ]
  },
  {
   "cell_type": "code",
   "execution_count": 27,
   "id": "0b56923e",
   "metadata": {
    "execution": {
     "iopub.execute_input": "2023-01-03T06:10:59.990004Z",
     "iopub.status.busy": "2023-01-03T06:10:59.989561Z",
     "iopub.status.idle": "2023-01-03T06:11:04.273707Z",
     "shell.execute_reply": "2023-01-03T06:11:04.271013Z"
    },
    "papermill": {
     "duration": 4.36082,
     "end_time": "2023-01-03T06:11:04.277221",
     "exception": false,
     "start_time": "2023-01-03T06:10:59.916401",
     "status": "completed"
    },
    "tags": []
   },
   "outputs": [
    {
     "name": "stderr",
     "output_type": "stream",
     "text": [
      "[Stage 96:=================================>                        (4 + 3) / 7]\r"
     ]
    },
    {
     "name": "stdout",
     "output_type": "stream",
     "text": [
      "+------+-------+---------+----+\n",
      "|salary|jobtype| industry|Rank|\n",
      "+------+-------+---------+----+\n",
      "|    17|JANITOR|EDUCATION|   1|\n",
      "|    18|JANITOR|EDUCATION|   2|\n",
      "|    18|JANITOR|EDUCATION|   2|\n",
      "|    18|JANITOR|EDUCATION|   2|\n",
      "|    19|JANITOR|EDUCATION|   5|\n",
      "|    19|JANITOR|EDUCATION|   5|\n",
      "|    19|JANITOR|EDUCATION|   5|\n",
      "|    19|JANITOR|EDUCATION|   5|\n",
      "|    19|JANITOR|EDUCATION|   5|\n",
      "|    19|JANITOR|EDUCATION|   5|\n",
      "|    19|JANITOR|EDUCATION|   5|\n",
      "|    19|JANITOR|EDUCATION|   5|\n",
      "|    19|JANITOR|EDUCATION|   5|\n",
      "|    19|JANITOR|EDUCATION|   5|\n",
      "|    20|JANITOR|EDUCATION|  15|\n",
      "|    20|JANITOR|EDUCATION|  15|\n",
      "|    20|JANITOR|EDUCATION|  15|\n",
      "|    20|JANITOR|EDUCATION|  15|\n",
      "|    20|JANITOR|EDUCATION|  15|\n",
      "|    20|JANITOR|EDUCATION|  15|\n",
      "+------+-------+---------+----+\n",
      "only showing top 20 rows\n",
      "\n"
     ]
    },
    {
     "name": "stderr",
     "output_type": "stream",
     "text": [
      "                                                                                \r"
     ]
    }
   ],
   "source": [
    "df_q3 = sc.sql('''\n",
    "          SELECT salary, jobtype, industry, RANK() OVER(PARTITION BY industry ORDER BY salary ASC) Rank\n",
    "          FROM data\n",
    "          ORDER BY salary ASC''')\n",
    "df_q3.show()"
   ]
  },
  {
   "cell_type": "code",
   "execution_count": 28,
   "id": "264c04ed",
   "metadata": {
    "execution": {
     "iopub.execute_input": "2023-01-03T06:11:04.377205Z",
     "iopub.status.busy": "2023-01-03T06:11:04.376774Z",
     "iopub.status.idle": "2023-01-03T06:11:07.687917Z",
     "shell.execute_reply": "2023-01-03T06:11:07.684952Z"
    },
    "papermill": {
     "duration": 3.367064,
     "end_time": "2023-01-03T06:11:07.693460",
     "exception": false,
     "start_time": "2023-01-03T06:11:04.326396",
     "status": "completed"
    },
    "tags": []
   },
   "outputs": [
    {
     "name": "stderr",
     "output_type": "stream",
     "text": [
      "[Stage 101:>                                                        (0 + 4) / 4]\r"
     ]
    },
    {
     "name": "stdout",
     "output_type": "stream",
     "text": [
      "+---------+------------------+\n",
      "| industry|    average_salary|\n",
      "+---------+------------------+\n",
      "|      OIL|130.95386285634237|\n",
      "|  FINANCE|  130.747658645164|\n",
      "|      WEB| 121.6453615446388|\n",
      "|   HEALTH| 115.7355399110364|\n",
      "|     AUTO|109.43522152496485|\n",
      "|  SERVICE|104.44682029458984|\n",
      "|EDUCATION| 99.44838571898697|\n",
      "+---------+------------------+\n",
      "\n"
     ]
    },
    {
     "name": "stderr",
     "output_type": "stream",
     "text": [
      "                                                                                \r"
     ]
    }
   ],
   "source": [
    "df_q4 = sc.sql('''\n",
    "          SELECT industry, AVG(salary) as average_salary\n",
    "          FROM data\n",
    "          GROUP BY industry\n",
    "          ORDER BY average_salary DESC''')\n",
    "df_q4.show(10)"
   ]
  },
  {
   "cell_type": "code",
   "execution_count": 29,
   "id": "9d985240",
   "metadata": {
    "execution": {
     "iopub.execute_input": "2023-01-03T06:11:07.810261Z",
     "iopub.status.busy": "2023-01-03T06:11:07.809831Z",
     "iopub.status.idle": "2023-01-03T06:11:10.838811Z",
     "shell.execute_reply": "2023-01-03T06:11:10.837822Z"
    },
    "papermill": {
     "duration": 3.082169,
     "end_time": "2023-01-03T06:11:10.841684",
     "exception": false,
     "start_time": "2023-01-03T06:11:07.759515",
     "status": "completed"
    },
    "tags": []
   },
   "outputs": [
    {
     "name": "stderr",
     "output_type": "stream",
     "text": [
      "                                                                                \r"
     ]
    },
    {
     "data": {
      "image/png": "[encoded data removed]",
      "text/plain": [
       "<Figure size 432x252 with 1 Axes>"
      ]
     },
     "metadata": {},
     "output_type": "display_data"
    }
   ],
   "source": [
    "df_p = df_q4.toPandas()\n",
    "plt.figure(figsize=(6,3.5))\n",
    "sns.barplot(y='industry', x = 'average_salary', data=df_p, palette='viridis')\n",
    "plt.title('Average salary by Industry')\n",
    "plt.xlabel('Salary (k$)')\n",
    "plt.show()"
   ]
  },
  {
   "cell_type": "code",
   "execution_count": 30,
   "id": "bd939bdd",
   "metadata": {
    "execution": {
     "iopub.execute_input": "2023-01-03T06:11:10.946842Z",
     "iopub.status.busy": "2023-01-03T06:11:10.945358Z",
     "iopub.status.idle": "2023-01-03T06:11:14.840803Z",
     "shell.execute_reply": "2023-01-03T06:11:14.837514Z"
    },
    "papermill": {
     "duration": 3.953588,
     "end_time": "2023-01-03T06:11:14.846119",
     "exception": false,
     "start_time": "2023-01-03T06:11:10.892531",
     "status": "completed"
    },
    "tags": []
   },
   "outputs": [
    {
     "name": "stderr",
     "output_type": "stream",
     "text": [
      "[Stage 128:>                                                        (0 + 4) / 4]\r"
     ]
    },
    {
     "name": "stdout",
     "output_type": "stream",
     "text": [
      "+------+-------+--------+---------------+\n",
      "|salary|jobtype|industry|yearsExperience|\n",
      "+------+-------+--------+---------------+\n",
      "|   301|    CTO|     OIL|             24|\n",
      "|   301|    CFO|     OIL|             23|\n",
      "|   298|    CEO|     OIL|             22|\n",
      "|   294|    CEO|     OIL|             19|\n",
      "|   294|    CEO| FINANCE|             24|\n",
      "|   293|    CEO| FINANCE|             16|\n",
      "|   293|    CEO|     OIL|             24|\n",
      "|   292|    CEO| FINANCE|             22|\n",
      "|   292|    CTO| FINANCE|             24|\n",
      "|   290|    CEO|     WEB|             20|\n",
      "|   289|    CEO| FINANCE|             23|\n",
      "|   289|    CFO|     OIL|             23|\n",
      "|   289|    CTO|     WEB|             24|\n",
      "|   288|    CFO| FINANCE|             24|\n",
      "|   288|    CFO| FINANCE|             21|\n",
      "|   287|    CEO| FINANCE|             19|\n",
      "|   287|    CEO|     OIL|             22|\n",
      "|   286|    CEO| FINANCE|             24|\n",
      "|   286|    CTO| FINANCE|             24|\n",
      "|   286|    CEO|     OIL|             16|\n",
      "+------+-------+--------+---------------+\n",
      "only showing top 20 rows\n",
      "\n"
     ]
    },
    {
     "name": "stderr",
     "output_type": "stream",
     "text": [
      "                                                                                \r"
     ]
    }
   ],
   "source": [
    "df_q5 = sc.sql('''\n",
    "    SELECT salary, jobtype, industry, yearsExperience\n",
    "    FROM data\n",
    "    ORDER BY salary DESC\n",
    "    ''') \n",
    "df_q5.show()"
   ]
  },
  {
   "cell_type": "code",
   "execution_count": 31,
   "id": "012f3d90",
   "metadata": {
    "execution": {
     "iopub.execute_input": "2023-01-03T06:11:14.997921Z",
     "iopub.status.busy": "2023-01-03T06:11:14.997473Z",
     "iopub.status.idle": "2023-01-03T06:11:18.080982Z",
     "shell.execute_reply": "2023-01-03T06:11:18.078895Z"
    },
    "papermill": {
     "duration": 3.16017,
     "end_time": "2023-01-03T06:11:18.084985",
     "exception": false,
     "start_time": "2023-01-03T06:11:14.924815",
     "status": "completed"
    },
    "tags": []
   },
   "outputs": [
    {
     "name": "stderr",
     "output_type": "stream",
     "text": [
      "[Stage 133:>                                                        (0 + 4) / 4]\r"
     ]
    },
    {
     "name": "stdout",
     "output_type": "stream",
     "text": [
      "+--------------+------+\n",
      "|       jobtype| count|\n",
      "+--------------+------+\n",
      "|           CTO|125045|\n",
      "|        JUNIOR|124592|\n",
      "|       JANITOR|124971|\n",
      "|           CFO|124369|\n",
      "|           CEO|124778|\n",
      "|       MANAGER|125120|\n",
      "|VICE_PRESIDENT|125234|\n",
      "|        SENIOR|125886|\n",
      "+--------------+------+\n",
      "\n"
     ]
    },
    {
     "name": "stderr",
     "output_type": "stream",
     "text": [
      "                                                                                \r"
     ]
    }
   ],
   "source": [
    "df_q5.groupBy('jobtype').count().show()"
   ]
  },
  {
   "cell_type": "code",
   "execution_count": 32,
   "id": "3d29308a",
   "metadata": {
    "execution": {
     "iopub.execute_input": "2023-01-03T06:11:18.202045Z",
     "iopub.status.busy": "2023-01-03T06:11:18.201422Z",
     "iopub.status.idle": "2023-01-03T06:11:18.207580Z",
     "shell.execute_reply": "2023-01-03T06:11:18.206409Z"
    },
    "papermill": {
     "duration": 0.074282,
     "end_time": "2023-01-03T06:11:18.209880",
     "exception": false,
     "start_time": "2023-01-03T06:11:18.135598",
     "status": "completed"
    },
    "tags": []
   },
   "outputs": [],
   "source": [
    "job_list = ['CEO','CFO','CTO','VICE_PRESIDENT','MANAGER','SENIOR','JUNIOR','JANITOR']"
   ]
  },
  {
   "cell_type": "code",
   "execution_count": 33,
   "id": "e85d8c50",
   "metadata": {
    "execution": {
     "iopub.execute_input": "2023-01-03T06:11:18.314209Z",
     "iopub.status.busy": "2023-01-03T06:11:18.313201Z",
     "iopub.status.idle": "2023-01-03T06:11:30.408781Z",
     "shell.execute_reply": "2023-01-03T06:11:30.407430Z"
    },
    "papermill": {
     "duration": 12.151179,
     "end_time": "2023-01-03T06:11:30.411844",
     "exception": false,
     "start_time": "2023-01-03T06:11:18.260665",
     "status": "completed"
    },
    "tags": []
   },
   "outputs": [
    {
     "name": "stderr",
     "output_type": "stream",
     "text": [
      "                                                                                \r"
     ]
    }
   ],
   "source": [
    "df_p = df_q5.toPandas()"
   ]
  },
  {
   "cell_type": "code",
   "execution_count": 34,
   "id": "00f56381",
   "metadata": {
    "execution": {
     "iopub.execute_input": "2023-01-03T06:11:30.520177Z",
     "iopub.status.busy": "2023-01-03T06:11:30.518948Z",
     "iopub.status.idle": "2023-01-03T06:13:43.219969Z",
     "shell.execute_reply": "2023-01-03T06:13:43.218596Z"
    },
    "papermill": {
     "duration": 132.810801,
     "end_time": "2023-01-03T06:13:43.275733",
     "exception": false,
     "start_time": "2023-01-03T06:11:30.464932",
     "status": "completed"
    },
    "tags": []
   },
   "outputs": [
    {
     "data": {
      "image/png": "[encoded data removed]",
      "text/plain": [
       "<Figure size 576x144 with 1 Axes>"
      ]
     },
     "metadata": {},
     "output_type": "display_data"
    },
    {
     "data": {
      "image/png": "[encoded data removed]",
      "text/plain": [
       "<Figure size 576x144 with 1 Axes>"
      ]
     },
     "metadata": {},
     "output_type": "display_data"
    },
    {
     "data": {
      "image/png": "[encoded data removed]",
      "text/plain": [
       "<Figure size 576x144 with 1 Axes>"
      ]
     },
     "metadata": {},
     "output_type": "display_data"
    },
    {
     "data": {
      "image/png": "[encoded data removed]",
      "text/plain": [
       "<Figure size 576x144 with 1 Axes>"
      ]
     },
     "metadata": {},
     "output_type": "display_data"
    },
    {
     "data": {
      "image/png": "[encoded data removed]",
      "text/plain": [
       "<Figure size 576x144 with 1 Axes>"
      ]
     },
     "metadata": {},
     "output_type": "display_data"
    },
    {
     "data": {
      "image/png": "[encoded data removed]",
      "text/plain": [
       "<Figure size 576x144 with 1 Axes>"
      ]
     },
     "metadata": {},
     "output_type": "display_data"
    },
    {
     "data": {
      "image/png": "[encoded data removed]",
      "text/plain": [
       "<Figure size 576x144 with 1 Axes>"
      ]
     },
     "metadata": {},
     "output_type": "display_data"
    },
    {
     "data": {
      "image/png": "[encoded data removed]",
      "text/plain": [
       "<Figure size 576x144 with 1 Axes>"
      ]
     },
     "metadata": {},
     "output_type": "display_data"
    }
   ],
   "source": [
    "slope_list = []  #to save the slopes of the regression lines\n",
    "intercept_list = [] #to save the intercepts of the regression lines\n",
    "\n",
    "for job in job_list:\n",
    "    df_x = df_p.loc[df_p['jobtype']==job]\n",
    "    slope, intercept, r_value, p_value, std_err = stats.linregress(df_x['yearsExperience'],df_x['salary'])\n",
    "    slope_list.append(slope)\n",
    "    intercept_list.append(intercept)\n",
    "    plt.figure(figsize=(8,2))\n",
    "    sns.regplot(x='yearsExperience', y = 'salary', data=df_x, color='#0d98ba', line_kws={'label':\"y={0:.1f}x+{1:.1f}\".format(slope,intercept)})\n",
    "    plt.legend()\n",
    "    plt.title('Salary by years of experience for ' + job)\n",
    "    plt.show()"
   ]
  },
  {
   "cell_type": "code",
   "execution_count": 35,
   "id": "05e56f16",
   "metadata": {
    "execution": {
     "iopub.execute_input": "2023-01-03T06:13:43.390890Z",
     "iopub.status.busy": "2023-01-03T06:13:43.389835Z",
     "iopub.status.idle": "2023-01-03T06:13:43.665073Z",
     "shell.execute_reply": "2023-01-03T06:13:43.663703Z"
    },
    "papermill": {
     "duration": 0.336024,
     "end_time": "2023-01-03T06:13:43.668008",
     "exception": false,
     "start_time": "2023-01-03T06:13:43.331984",
     "status": "completed"
    },
    "tags": []
   },
   "outputs": [
    {
     "data": {
      "image/png": "[encoded data removed]",
      "text/plain": [
       "<Figure size 489.6x216 with 1 Axes>"
      ]
     },
     "metadata": {},
     "output_type": "display_data"
    }
   ],
   "source": [
    "X = np.array([0, 5, 10, 15, 20, 25])\n",
    "plt.figure(figsize=(6.8,3))\n",
    "for i in range(8):\n",
    "    plt.plot(X, slope_list[i]*X+intercept_list[i],label=job_list[i], marker='.')\n",
    "    plt.legend(bbox_to_anchor=(1, 1.03), ncol=1, fancybox=True, shadow=True)\n",
    "plt.ylabel('Salary (k$)')\n",
    "plt.xlabel('Years of Experience')\n",
    "plt.title('Salary vs years of experience (Linear Regression)')\n",
    "plt.show()"
   ]
  },
  {
   "cell_type": "code",
   "execution_count": 36,
   "id": "bc3a069f",
   "metadata": {
    "execution": {
     "iopub.execute_input": "2023-01-03T06:13:43.783068Z",
     "iopub.status.busy": "2023-01-03T06:13:43.782627Z",
     "iopub.status.idle": "2023-01-03T06:13:46.656825Z",
     "shell.execute_reply": "2023-01-03T06:13:46.655385Z"
    },
    "papermill": {
     "duration": 2.93811,
     "end_time": "2023-01-03T06:13:46.662186",
     "exception": false,
     "start_time": "2023-01-03T06:13:43.724076",
     "status": "completed"
    },
    "tags": []
   },
   "outputs": [
    {
     "name": "stderr",
     "output_type": "stream",
     "text": [
      "[Stage 154:>                                                        (0 + 4) / 4]\r"
     ]
    },
    {
     "name": "stdout",
     "output_type": "stream",
     "text": [
      "+-----------+------+-------+\n",
      "|     degree|salary|jobtype|\n",
      "+-----------+------+-------+\n",
      "|       NONE|    17|JANITOR|\n",
      "|HIGH_SCHOOL|    18|JANITOR|\n",
      "|HIGH_SCHOOL|    18|JANITOR|\n",
      "|       NONE|    18|JANITOR|\n",
      "|       NONE|    19|JANITOR|\n",
      "+-----------+------+-------+\n",
      "only showing top 5 rows\n",
      "\n"
     ]
    },
    {
     "name": "stderr",
     "output_type": "stream",
     "text": [
      "                                                                                \r"
     ]
    }
   ],
   "source": [
    "df_q6 = sc.sql('''\n",
    "                  SELECT degree, salary, jobtype\n",
    "                  FROM data\n",
    "                  ORDER BY salary\n",
    "                  ''')\n",
    "df_q6.show(5)"
   ]
  },
  {
   "cell_type": "code",
   "execution_count": 37,
   "id": "b596e925",
   "metadata": {
    "execution": {
     "iopub.execute_input": "2023-01-03T06:13:46.835727Z",
     "iopub.status.busy": "2023-01-03T06:13:46.835139Z",
     "iopub.status.idle": "2023-01-03T06:13:46.870180Z",
     "shell.execute_reply": "2023-01-03T06:13:46.868819Z"
    },
    "papermill": {
     "duration": 0.126895,
     "end_time": "2023-01-03T06:13:46.874150",
     "exception": false,
     "start_time": "2023-01-03T06:13:46.747255",
     "status": "completed"
    },
    "tags": []
   },
   "outputs": [],
   "source": [
    "df_q6 = df_q6.replace('NONE',None)"
   ]
  },
  {
   "cell_type": "code",
   "execution_count": 38,
   "id": "345b863e",
   "metadata": {
    "execution": {
     "iopub.execute_input": "2023-01-03T06:13:47.019878Z",
     "iopub.status.busy": "2023-01-03T06:13:47.019415Z",
     "iopub.status.idle": "2023-01-03T06:13:49.425877Z",
     "shell.execute_reply": "2023-01-03T06:13:49.424239Z"
    },
    "papermill": {
     "duration": 2.471674,
     "end_time": "2023-01-03T06:13:49.429800",
     "exception": false,
     "start_time": "2023-01-03T06:13:46.958126",
     "status": "completed"
    },
    "tags": []
   },
   "outputs": [
    {
     "name": "stderr",
     "output_type": "stream",
     "text": [
      "[Stage 159:>                                                        (0 + 4) / 4]\r"
     ]
    },
    {
     "name": "stdout",
     "output_type": "stream",
     "text": [
      "+-----------+------+-------+\n",
      "|     degree|salary|jobtype|\n",
      "+-----------+------+-------+\n",
      "|       null|    17|JANITOR|\n",
      "|HIGH_SCHOOL|    18|JANITOR|\n",
      "|HIGH_SCHOOL|    18|JANITOR|\n",
      "|       null|    18|JANITOR|\n",
      "|       null|    19|JANITOR|\n",
      "+-----------+------+-------+\n",
      "only showing top 5 rows\n",
      "\n"
     ]
    },
    {
     "name": "stderr",
     "output_type": "stream",
     "text": [
      "                                                                                \r"
     ]
    }
   ],
   "source": [
    "df_q6.show(5)"
   ]
  },
  {
   "cell_type": "code",
   "execution_count": 39,
   "id": "2f2ed69e",
   "metadata": {
    "execution": {
     "iopub.execute_input": "2023-01-03T06:13:49.555735Z",
     "iopub.status.busy": "2023-01-03T06:13:49.555243Z",
     "iopub.status.idle": "2023-01-03T06:13:49.570326Z",
     "shell.execute_reply": "2023-01-03T06:13:49.568865Z"
    },
    "papermill": {
     "duration": 0.075779,
     "end_time": "2023-01-03T06:13:49.573064",
     "exception": false,
     "start_time": "2023-01-03T06:13:49.497285",
     "status": "completed"
    },
    "tags": []
   },
   "outputs": [],
   "source": [
    "df_q6 = df_q6.na.drop()"
   ]
  },
  {
   "cell_type": "code",
   "execution_count": 40,
   "id": "1a484b91",
   "metadata": {
    "execution": {
     "iopub.execute_input": "2023-01-03T06:13:49.697825Z",
     "iopub.status.busy": "2023-01-03T06:13:49.697325Z",
     "iopub.status.idle": "2023-01-03T06:13:52.522699Z",
     "shell.execute_reply": "2023-01-03T06:13:52.520580Z"
    },
    "papermill": {
     "duration": 2.896855,
     "end_time": "2023-01-03T06:13:52.526612",
     "exception": false,
     "start_time": "2023-01-03T06:13:49.629757",
     "status": "completed"
    },
    "tags": []
   },
   "outputs": [
    {
     "name": "stderr",
     "output_type": "stream",
     "text": [
      "[Stage 164:>                                                        (0 + 4) / 4]\r"
     ]
    },
    {
     "name": "stdout",
     "output_type": "stream",
     "text": [
      "+-----------+------+-------+\n",
      "|     degree|salary|jobtype|\n",
      "+-----------+------+-------+\n",
      "|HIGH_SCHOOL|    18|JANITOR|\n",
      "|HIGH_SCHOOL|    18|JANITOR|\n",
      "|HIGH_SCHOOL|    19|JANITOR|\n",
      "|HIGH_SCHOOL|    19|JANITOR|\n",
      "|HIGH_SCHOOL|    20|JANITOR|\n",
      "+-----------+------+-------+\n",
      "only showing top 5 rows\n",
      "\n"
     ]
    },
    {
     "name": "stderr",
     "output_type": "stream",
     "text": [
      "                                                                                \r"
     ]
    }
   ],
   "source": [
    "df_q6.show(5)"
   ]
  },
  {
   "cell_type": "code",
   "execution_count": 41,
   "id": "d8623726",
   "metadata": {
    "execution": {
     "iopub.execute_input": "2023-01-03T06:13:52.649734Z",
     "iopub.status.busy": "2023-01-03T06:13:52.648227Z",
     "iopub.status.idle": "2023-01-03T06:13:55.954815Z",
     "shell.execute_reply": "2023-01-03T06:13:55.953518Z"
    },
    "papermill": {
     "duration": 3.369708,
     "end_time": "2023-01-03T06:13:55.958597",
     "exception": false,
     "start_time": "2023-01-03T06:13:52.588889",
     "status": "completed"
    },
    "tags": []
   },
   "outputs": [
    {
     "name": "stderr",
     "output_type": "stream",
     "text": [
      "[Stage 169:>                                                        (0 + 4) / 4]\r"
     ]
    },
    {
     "name": "stdout",
     "output_type": "stream",
     "text": [
      "+-----------+------+\n",
      "|     degree| count|\n",
      "+-----------+------+\n",
      "|  BACHELORS|175495|\n",
      "|    MASTERS|175310|\n",
      "|HIGH_SCHOOL|236975|\n",
      "|   DOCTORAL|175362|\n",
      "+-----------+------+\n",
      "\n"
     ]
    },
    {
     "name": "stderr",
     "output_type": "stream",
     "text": [
      "                                                                                \r"
     ]
    }
   ],
   "source": [
    "df_q6.groupBy('degree').count().show()"
   ]
  },
  {
   "cell_type": "code",
   "execution_count": 42,
   "id": "5c51e34b",
   "metadata": {
    "execution": {
     "iopub.execute_input": "2023-01-03T06:13:56.096428Z",
     "iopub.status.busy": "2023-01-03T06:13:56.095876Z",
     "iopub.status.idle": "2023-01-03T06:13:56.101881Z",
     "shell.execute_reply": "2023-01-03T06:13:56.100222Z"
    },
    "papermill": {
     "duration": 0.08396,
     "end_time": "2023-01-03T06:13:56.104862",
     "exception": false,
     "start_time": "2023-01-03T06:13:56.020902",
     "status": "completed"
    },
    "tags": []
   },
   "outputs": [],
   "source": [
    "degrees_list = ['HIGH_SCHOOL','BACHELORS','DOCTORAL','MASTERS']"
   ]
  },
  {
   "cell_type": "code",
   "execution_count": 43,
   "id": "a6a42aeb",
   "metadata": {
    "execution": {
     "iopub.execute_input": "2023-01-03T06:13:56.223166Z",
     "iopub.status.busy": "2023-01-03T06:13:56.222707Z",
     "iopub.status.idle": "2023-01-03T06:14:05.426529Z",
     "shell.execute_reply": "2023-01-03T06:14:05.425344Z"
    },
    "papermill": {
     "duration": 9.266002,
     "end_time": "2023-01-03T06:14:05.429317",
     "exception": false,
     "start_time": "2023-01-03T06:13:56.163315",
     "status": "completed"
    },
    "tags": []
   },
   "outputs": [
    {
     "name": "stderr",
     "output_type": "stream",
     "text": [
      "                                                                                \r"
     ]
    }
   ],
   "source": [
    "df_p = df_q6.toPandas()"
   ]
  },
  {
   "cell_type": "code",
   "execution_count": 44,
   "id": "c5ce0345",
   "metadata": {
    "execution": {
     "iopub.execute_input": "2023-01-03T06:14:05.546245Z",
     "iopub.status.busy": "2023-01-03T06:14:05.545310Z",
     "iopub.status.idle": "2023-01-03T06:14:08.801684Z",
     "shell.execute_reply": "2023-01-03T06:14:08.800688Z"
    },
    "papermill": {
     "duration": 3.317963,
     "end_time": "2023-01-03T06:14:08.804222",
     "exception": false,
     "start_time": "2023-01-03T06:14:05.486259",
     "status": "completed"
    },
    "tags": []
   },
   "outputs": [
    {
     "data": {
      "image/png": "[encoded data removed]",
      "text/plain": [
       "<Figure size 432x216 with 1 Axes>"
      ]
     },
     "metadata": {},
     "output_type": "display_data"
    },
    {
     "data": {
      "image/png": "[encoded data removed]",
      "text/plain": [
       "<Figure size 432x216 with 1 Axes>"
      ]
     },
     "metadata": {},
     "output_type": "display_data"
    },
    {
     "data": {
      "image/png": "[encoded data removed]",
      "text/plain": [
       "<Figure size 432x216 with 1 Axes>"
      ]
     },
     "metadata": {},
     "output_type": "display_data"
    },
    {
     "data": {
      "image/png": "[encoded data removed]",
      "text/plain": [
       "<Figure size 432x216 with 1 Axes>"
      ]
     },
     "metadata": {},
     "output_type": "display_data"
    },
    {
     "data": {
      "image/png": "[encoded data removed]",
      "text/plain": [
       "<Figure size 432x216 with 1 Axes>"
      ]
     },
     "metadata": {},
     "output_type": "display_data"
    },
    {
     "data": {
      "image/png": "[encoded data removed]",
      "text/plain": [
       "<Figure size 432x216 with 1 Axes>"
      ]
     },
     "metadata": {},
     "output_type": "display_data"
    },
    {
     "data": {
      "image/png": "[encoded data removed]",
      "text/plain": [
       "<Figure size 432x216 with 1 Axes>"
      ]
     },
     "metadata": {},
     "output_type": "display_data"
    },
    {
     "data": {
      "image/png": "[encoded data removed]",
      "text/plain": [
       "<Figure size 432x216 with 1 Axes>"
      ]
     },
     "metadata": {},
     "output_type": "display_data"
    }
   ],
   "source": [
    "for job in job_list:\n",
    "  df_x = df_p.loc[df_p['jobtype']==job]\n",
    "  plt.figure(figsize=(6,3))\n",
    "  sns.boxplot(x='degree', y = 'salary', data=df_x, palette='flare')\n",
    "  plt.title('Salary of ' + job + ' by degree type')\n",
    "  plt.show()"
   ]
  },
  {
   "cell_type": "code",
   "execution_count": 45,
   "id": "d62bf261",
   "metadata": {
    "execution": {
     "iopub.execute_input": "2023-01-03T06:14:08.929533Z",
     "iopub.status.busy": "2023-01-03T06:14:08.928687Z",
     "iopub.status.idle": "2023-01-03T06:14:20.113045Z",
     "shell.execute_reply": "2023-01-03T06:14:20.111635Z"
    },
    "papermill": {
     "duration": 11.250346,
     "end_time": "2023-01-03T06:14:20.115991",
     "exception": false,
     "start_time": "2023-01-03T06:14:08.865645",
     "status": "completed"
    },
    "tags": []
   },
   "outputs": [
    {
     "data": {
      "image/png": "[encoded data removed]",
      "text/plain": [
       "<Figure size 432x360 with 1 Axes>"
      ]
     },
     "metadata": {},
     "output_type": "display_data"
    }
   ],
   "source": [
    "plt.figure(figsize=(6,5))\n",
    "sns.barplot(x='degree', y = 'salary', data=df_p, hue='jobtype', palette='flare')\n",
    "plt.legend(loc='lower right', title='Job')\n",
    "plt.ylabel('Salary (k$)')\n",
    "plt.title('Salary of degree by jobtype')\n",
    "plt.show()"
   ]
  },
  {
   "cell_type": "code",
   "execution_count": 46,
   "id": "5a28c0ff",
   "metadata": {
    "execution": {
     "iopub.execute_input": "2023-01-03T06:14:20.239972Z",
     "iopub.status.busy": "2023-01-03T06:14:20.239541Z",
     "iopub.status.idle": "2023-01-03T06:14:23.754450Z",
     "shell.execute_reply": "2023-01-03T06:14:23.752383Z"
    },
    "papermill": {
     "duration": 3.580653,
     "end_time": "2023-01-03T06:14:23.758063",
     "exception": false,
     "start_time": "2023-01-03T06:14:20.177410",
     "status": "completed"
    },
    "tags": []
   },
   "outputs": [
    {
     "name": "stderr",
     "output_type": "stream",
     "text": [
      "[Stage 190:>                                                        (0 + 4) / 4]\r"
     ]
    },
    {
     "name": "stdout",
     "output_type": "stream",
     "text": [
      "+-------+-----------+-----+------+\n",
      "|jobtype|     degree|major|salary|\n",
      "+-------+-----------+-----+------+\n",
      "|JANITOR|       NONE| NONE|    17|\n",
      "|JANITOR|       NONE| NONE|    18|\n",
      "|JANITOR|HIGH_SCHOOL| NONE|    18|\n",
      "|JANITOR|HIGH_SCHOOL| NONE|    18|\n",
      "|JANITOR|       NONE| NONE|    19|\n",
      "+-------+-----------+-----+------+\n",
      "only showing top 5 rows\n",
      "\n"
     ]
    },
    {
     "name": "stderr",
     "output_type": "stream",
     "text": [
      "                                                                                \r"
     ]
    }
   ],
   "source": [
    "df_q7 = sc.sql('''\n",
    "                  SELECT jobtype, degree, major, salary\n",
    "                  FROM data\n",
    "                  ORDER BY salary''')\n",
    "df_q7.show(5)"
   ]
  },
  {
   "cell_type": "code",
   "execution_count": 47,
   "id": "4eadbcc6",
   "metadata": {
    "execution": {
     "iopub.execute_input": "2023-01-03T06:14:23.905835Z",
     "iopub.status.busy": "2023-01-03T06:14:23.905134Z",
     "iopub.status.idle": "2023-01-03T06:14:23.939239Z",
     "shell.execute_reply": "2023-01-03T06:14:23.937866Z"
    },
    "papermill": {
     "duration": 0.100169,
     "end_time": "2023-01-03T06:14:23.942817",
     "exception": false,
     "start_time": "2023-01-03T06:14:23.842648",
     "status": "completed"
    },
    "tags": []
   },
   "outputs": [],
   "source": [
    "df_q7 = df_q7.replace('NONE',None)\n",
    "df_q7 = df_q7.na.drop()"
   ]
  },
  {
   "cell_type": "code",
   "execution_count": 48,
   "id": "589bff21",
   "metadata": {
    "execution": {
     "iopub.execute_input": "2023-01-03T06:14:24.103544Z",
     "iopub.status.busy": "2023-01-03T06:14:24.103041Z",
     "iopub.status.idle": "2023-01-03T06:14:27.014369Z",
     "shell.execute_reply": "2023-01-03T06:14:27.012563Z"
    },
    "papermill": {
     "duration": 2.982296,
     "end_time": "2023-01-03T06:14:27.019098",
     "exception": false,
     "start_time": "2023-01-03T06:14:24.036802",
     "status": "completed"
    },
    "tags": []
   },
   "outputs": [
    {
     "name": "stderr",
     "output_type": "stream",
     "text": [
      "[Stage 195:>                                                        (0 + 4) / 4]\r"
     ]
    },
    {
     "name": "stdout",
     "output_type": "stream",
     "text": [
      "+-----------+-----+\n",
      "|      major|count|\n",
      "+-----------+-----+\n",
      "|    BIOLOGY|58379|\n",
      "|ENGINEERING|58594|\n",
      "|    PHYSICS|58410|\n",
      "|  CHEMISTRY|58875|\n",
      "|   BUSINESS|58518|\n",
      "|       MATH|57800|\n",
      "|    COMPSCI|58382|\n",
      "| LITERATURE|58684|\n",
      "+-----------+-----+\n",
      "\n"
     ]
    },
    {
     "name": "stderr",
     "output_type": "stream",
     "text": [
      "                                                                                \r"
     ]
    }
   ],
   "source": [
    "df_q7.groupBy('major').count().show()"
   ]
  },
  {
   "cell_type": "code",
   "execution_count": 49,
   "id": "6d4efc7b",
   "metadata": {
    "execution": {
     "iopub.execute_input": "2023-01-03T06:14:27.226102Z",
     "iopub.status.busy": "2023-01-03T06:14:27.225674Z",
     "iopub.status.idle": "2023-01-03T06:14:30.096009Z",
     "shell.execute_reply": "2023-01-03T06:14:30.094295Z"
    },
    "papermill": {
     "duration": 2.983434,
     "end_time": "2023-01-03T06:14:30.099772",
     "exception": false,
     "start_time": "2023-01-03T06:14:27.116338",
     "status": "completed"
    },
    "tags": []
   },
   "outputs": [
    {
     "name": "stderr",
     "output_type": "stream",
     "text": [
      "[Stage 204:>                                                        (0 + 4) / 4]\r"
     ]
    },
    {
     "name": "stdout",
     "output_type": "stream",
     "text": [
      "+--------------+-----+\n",
      "|       jobtype|count|\n",
      "+--------------+-----+\n",
      "|           CTO|66885|\n",
      "|        JUNIOR|66465|\n",
      "|           CFO|66427|\n",
      "|           CEO|66754|\n",
      "|       MANAGER|66832|\n",
      "|VICE_PRESIDENT|66771|\n",
      "|        SENIOR|67508|\n",
      "+--------------+-----+\n",
      "\n"
     ]
    },
    {
     "name": "stderr",
     "output_type": "stream",
     "text": [
      "                                                                                \r"
     ]
    }
   ],
   "source": [
    "df_q7.groupBy('jobtype').count().show()"
   ]
  },
  {
   "cell_type": "code",
   "execution_count": 50,
   "id": "cb0dd5da",
   "metadata": {
    "execution": {
     "iopub.execute_input": "2023-01-03T06:14:30.235935Z",
     "iopub.status.busy": "2023-01-03T06:14:30.235479Z",
     "iopub.status.idle": "2023-01-03T06:14:30.240959Z",
     "shell.execute_reply": "2023-01-03T06:14:30.239672Z"
    },
    "papermill": {
     "duration": 0.071631,
     "end_time": "2023-01-03T06:14:30.243541",
     "exception": false,
     "start_time": "2023-01-03T06:14:30.171910",
     "status": "completed"
    },
    "tags": []
   },
   "outputs": [],
   "source": [
    "job_list = ['CEO','CFO','CTO','VICE_PRESIDENT','MANAGER','SENIOR','JUNIOR']"
   ]
  },
  {
   "cell_type": "code",
   "execution_count": 51,
   "id": "f1a836ad",
   "metadata": {
    "execution": {
     "iopub.execute_input": "2023-01-03T06:14:30.368136Z",
     "iopub.status.busy": "2023-01-03T06:14:30.367667Z",
     "iopub.status.idle": "2023-01-03T06:14:39.316521Z",
     "shell.execute_reply": "2023-01-03T06:14:39.315178Z"
    },
    "papermill": {
     "duration": 9.014579,
     "end_time": "2023-01-03T06:14:39.319757",
     "exception": false,
     "start_time": "2023-01-03T06:14:30.305178",
     "status": "completed"
    },
    "tags": []
   },
   "outputs": [
    {
     "name": "stderr",
     "output_type": "stream",
     "text": [
      "                                                                                \r"
     ]
    }
   ],
   "source": [
    "df_p = df_q7.toPandas()\n"
   ]
  },
  {
   "cell_type": "code",
   "execution_count": 52,
   "id": "5bcec74d",
   "metadata": {
    "execution": {
     "iopub.execute_input": "2023-01-03T06:14:39.448557Z",
     "iopub.status.busy": "2023-01-03T06:14:39.447502Z",
     "iopub.status.idle": "2023-01-03T06:14:42.680776Z",
     "shell.execute_reply": "2023-01-03T06:14:42.679579Z"
    },
    "papermill": {
     "duration": 3.299641,
     "end_time": "2023-01-03T06:14:42.683414",
     "exception": false,
     "start_time": "2023-01-03T06:14:39.383773",
     "status": "completed"
    },
    "tags": []
   },
   "outputs": [
    {
     "data": {
      "image/png": "[encoded data removed]",
      "text/plain": [
       "<Figure size 720x216 with 1 Axes>"
      ]
     },
     "metadata": {},
     "output_type": "display_data"
    },
    {
     "data": {
      "image/png": "[encoded data removed]",
      "text/plain": [
       "<Figure size 720x216 with 1 Axes>"
      ]
     },
     "metadata": {},
     "output_type": "display_data"
    },
    {
     "data": {
      "image/png": "[encoded data removed]",
      "text/plain": [
       "<Figure size 720x216 with 1 Axes>"
      ]
     },
     "metadata": {},
     "output_type": "display_data"
    },
    {
     "data": {
      "image/png": "[encoded data removed]",
      "text/plain": [
       "<Figure size 720x216 with 1 Axes>"
      ]
     },
     "metadata": {},
     "output_type": "display_data"
    },
    {
     "data": {
      "image/png": "[encoded data removed]",
      "text/plain": [
       "<Figure size 720x216 with 1 Axes>"
      ]
     },
     "metadata": {},
     "output_type": "display_data"
    },
    {
     "data": {
      "image/png": "[encoded data removed]",
      "text/plain": [
       "<Figure size 720x216 with 1 Axes>"
      ]
     },
     "metadata": {},
     "output_type": "display_data"
    },
    {
     "data": {
      "image/png": "[encoded data removed]",
      "text/plain": [
       "<Figure size 720x216 with 1 Axes>"
      ]
     },
     "metadata": {},
     "output_type": "display_data"
    }
   ],
   "source": [
    "for job in job_list:\n",
    "  df_x = df_p.loc[df_p['jobtype']==job]\n",
    "  plt.figure(figsize=(10,3))\n",
    "  sns.boxplot(x='major', y = 'salary', data=df_x, palette='mako_r')\n",
    "  plt.title('Salary of ' + job + ' by major')\n",
    "  plt.show()"
   ]
  },
  {
   "cell_type": "code",
   "execution_count": 53,
   "id": "21c513ea",
   "metadata": {
    "execution": {
     "iopub.execute_input": "2023-01-03T06:14:42.817383Z",
     "iopub.status.busy": "2023-01-03T06:14:42.816927Z",
     "iopub.status.idle": "2023-01-03T06:14:51.242745Z",
     "shell.execute_reply": "2023-01-03T06:14:51.241632Z"
    },
    "papermill": {
     "duration": 8.495735,
     "end_time": "2023-01-03T06:14:51.245448",
     "exception": false,
     "start_time": "2023-01-03T06:14:42.749713",
     "status": "completed"
    },
    "tags": []
   },
   "outputs": [
    {
     "data": {
      "image/png": "[encoded data removed]",
      "text/plain": [
       "<Figure size 720x360 with 1 Axes>"
      ]
     },
     "metadata": {},
     "output_type": "display_data"
    }
   ],
   "source": [
    "plt.figure(figsize=(10,5))\n",
    "sns.barplot(x='jobtype', y = 'salary', data=df_p, hue='major', palette='mako_r')\n",
    "plt.legend(loc='center right', title='Major')\n",
    "plt.ylabel('Salary (k$)')\n",
    "plt.title('Salary of jobtypes by major')\n",
    "plt.show()"
   ]
  },
  {
   "cell_type": "code",
   "execution_count": 54,
   "id": "c5a38838",
   "metadata": {
    "execution": {
     "iopub.execute_input": "2023-01-03T06:14:51.384099Z",
     "iopub.status.busy": "2023-01-03T06:14:51.383310Z",
     "iopub.status.idle": "2023-01-03T06:14:53.566963Z",
     "shell.execute_reply": "2023-01-03T06:14:53.565861Z"
    },
    "papermill": {
     "duration": 2.254941,
     "end_time": "2023-01-03T06:14:53.569927",
     "exception": false,
     "start_time": "2023-01-03T06:14:51.314986",
     "status": "completed"
    },
    "tags": []
   },
   "outputs": [
    {
     "name": "stderr",
     "output_type": "stream",
     "text": [
      "[Stage 222:>                                                        (0 + 4) / 4]\r"
     ]
    },
    {
     "name": "stdout",
     "output_type": "stream",
     "text": [
      "+----------------+---------+-------+-----------+-----+--------+---------------+-------------------+------+\n",
      "|           jobId|companyId|jobType|     degree|major|industry|yearsExperience|milesFromMetropolis|salary|\n",
      "+----------------+---------+-------+-----------+-----+--------+---------------+-------------------+------+\n",
      "|JOB1362684407687|   COMP37|    CFO|    MASTERS| MATH|  HEALTH|             10|                 83|   130|\n",
      "|JOB1362684407688|   COMP19|    CEO|HIGH_SCHOOL| NONE|     WEB|              3|                 73|   101|\n",
      "+----------------+---------+-------+-----------+-----+--------+---------------+-------------------+------+\n",
      "only showing top 2 rows\n",
      "\n"
     ]
    },
    {
     "name": "stderr",
     "output_type": "stream",
     "text": [
      "                                                                                \r"
     ]
    }
   ],
   "source": [
    "df.show(2)"
   ]
  },
  {
   "cell_type": "code",
   "execution_count": 55,
   "id": "50ff92f3",
   "metadata": {
    "execution": {
     "iopub.execute_input": "2023-01-03T06:14:53.703937Z",
     "iopub.status.busy": "2023-01-03T06:14:53.703470Z",
     "iopub.status.idle": "2023-01-03T06:14:53.714306Z",
     "shell.execute_reply": "2023-01-03T06:14:53.713341Z"
    },
    "papermill": {
     "duration": 0.080448,
     "end_time": "2023-01-03T06:14:53.716403",
     "exception": false,
     "start_time": "2023-01-03T06:14:53.635955",
     "status": "completed"
    },
    "tags": []
   },
   "outputs": [
    {
     "data": {
      "text/plain": [
       "False"
      ]
     },
     "execution_count": 55,
     "metadata": {},
     "output_type": "execute_result"
    }
   ],
   "source": [
    "df_encoded = df.alias('df_encoded')\n",
    "id(df_encoded) == id(df)  # False"
   ]
  },
  {
   "cell_type": "code",
   "execution_count": 56,
   "id": "a4210d34",
   "metadata": {
    "execution": {
     "iopub.execute_input": "2023-01-03T06:14:53.852592Z",
     "iopub.status.busy": "2023-01-03T06:14:53.852099Z",
     "iopub.status.idle": "2023-01-03T06:14:53.866866Z",
     "shell.execute_reply": "2023-01-03T06:14:53.865757Z"
    },
    "papermill": {
     "duration": 0.086313,
     "end_time": "2023-01-03T06:14:53.869691",
     "exception": false,
     "start_time": "2023-01-03T06:14:53.783378",
     "status": "completed"
    },
    "tags": []
   },
   "outputs": [],
   "source": [
    "df_encoded = df_encoded.drop('jobId')"
   ]
  },
  {
   "cell_type": "code",
   "execution_count": 57,
   "id": "fe53c13f",
   "metadata": {
    "execution": {
     "iopub.execute_input": "2023-01-03T06:14:54.005730Z",
     "iopub.status.busy": "2023-01-03T06:14:54.005225Z",
     "iopub.status.idle": "2023-01-03T06:14:54.013220Z",
     "shell.execute_reply": "2023-01-03T06:14:54.011563Z"
    },
    "papermill": {
     "duration": 0.078779,
     "end_time": "2023-01-03T06:14:54.015876",
     "exception": false,
     "start_time": "2023-01-03T06:14:53.937097",
     "status": "completed"
    },
    "tags": []
   },
   "outputs": [
    {
     "name": "stdout",
     "output_type": "stream",
     "text": [
      "['companyId', 'jobType', 'degree', 'major', 'industry', 'yearsExperience', 'milesFromMetropolis', 'salary']\n"
     ]
    }
   ],
   "source": [
    "cols = df_encoded.columns\n",
    "print(cols)"
   ]
  },
  {
   "cell_type": "code",
   "execution_count": 58,
   "id": "46f978f4",
   "metadata": {
    "execution": {
     "iopub.execute_input": "2023-01-03T06:14:54.238613Z",
     "iopub.status.busy": "2023-01-03T06:14:54.238092Z",
     "iopub.status.idle": "2023-01-03T06:15:01.666908Z",
     "shell.execute_reply": "2023-01-03T06:15:01.665558Z"
    },
    "papermill": {
     "duration": 7.500285,
     "end_time": "2023-01-03T06:15:01.669925",
     "exception": false,
     "start_time": "2023-01-03T06:14:54.169640",
     "status": "completed"
    },
    "tags": []
   },
   "outputs": [
    {
     "name": "stderr",
     "output_type": "stream",
     "text": [
      "                                                                                \r"
     ]
    }
   ],
   "source": [
    "salary_df = df_encoded.select('salary').toPandas()"
   ]
  },
  {
   "cell_type": "code",
   "execution_count": 59,
   "id": "902d8340",
   "metadata": {
    "execution": {
     "iopub.execute_input": "2023-01-03T06:15:01.809271Z",
     "iopub.status.busy": "2023-01-03T06:15:01.807916Z",
     "iopub.status.idle": "2023-01-03T06:15:10.300629Z",
     "shell.execute_reply": "2023-01-03T06:15:10.299599Z"
    },
    "papermill": {
     "duration": 8.566218,
     "end_time": "2023-01-03T06:15:10.303307",
     "exception": false,
     "start_time": "2023-01-03T06:15:01.737089",
     "status": "completed"
    },
    "tags": []
   },
   "outputs": [
    {
     "name": "stderr",
     "output_type": "stream",
     "text": [
      "                                                                                \r"
     ]
    },
    {
     "data": {
      "image/png": "[encoded data removed]",
      "text/plain": [
       "<Figure size 576x288 with 2 Axes>"
      ]
     },
     "metadata": {},
     "output_type": "display_data"
    }
   ],
   "source": [
    "salary_df = df_encoded.select('salary').toPandas()\n",
    "fig, ax = plt.subplots(2, 1, sharex=True, figsize=(8,4),gridspec_kw={\"height_ratios\": (.2, .8)})\n",
    "ax[0].set_title('Salary distribution',fontsize=18)\n",
    "sns.boxplot(x='salary', data=salary_df, ax=ax[0], color='#0d98ba')\n",
    "ax[0].set(yticks=[])\n",
    "sns.histplot(x='salary', data=salary_df, ax=ax[1], color='#0d98ba')\n",
    "plt.axvline(salary_df['salary'].mean(), color='darkgreen', linewidth=2.2, label='mean=' + str(np.round(salary_df['salary'].mean(),1)) + 'k$')\n",
    "plt.axvline(salary_df['salary'].median(), color='red', linewidth=2.2, label='median='+ str(np.round(salary_df['salary'].median(),1)) + 'k$')\n",
    "plt.axvline(salary_df['salary'].mode()[0], color='purple', linewidth=2.2, label='mode='+ str(salary_df['salary'].mode()[0]) + 'k$')\n",
    "ax[1].set_xlabel('Salary (k$)')\n",
    "plt.legend()\n",
    "plt.tight_layout()\n",
    "plt.show()"
   ]
  },
  {
   "cell_type": "code",
   "execution_count": 60,
   "id": "968edc54",
   "metadata": {
    "execution": {
     "iopub.execute_input": "2023-01-03T06:15:10.444424Z",
     "iopub.status.busy": "2023-01-03T06:15:10.443620Z",
     "iopub.status.idle": "2023-01-03T06:15:10.500412Z",
     "shell.execute_reply": "2023-01-03T06:15:10.498907Z"
    },
    "papermill": {
     "duration": 0.130863,
     "end_time": "2023-01-03T06:15:10.503230",
     "exception": false,
     "start_time": "2023-01-03T06:15:10.372367",
     "status": "completed"
    },
    "tags": []
   },
   "outputs": [],
   "source": [
    "categoricalColumns = [\"companyId\",\"jobType\", \"degree\", \"major\", \"industry\"]\n",
    "stages = []\n",
    "for categoricalCol in categoricalColumns:\n",
    "    stringIndexer = StringIndexer(inputCol = categoricalCol, outputCol = categoricalCol + 'Index')\n",
    "    stages += [stringIndexer]\n",
    "numericCols =  [\"yearsExperience\", \"milesFromMetropolis\"]\n",
    "assemblerInputs = [c + \"Index\" for c in categoricalColumns] + numericCols\n",
    "assembler = VectorAssembler(inputCols=assemblerInputs, outputCol=\"features\")\n",
    "stages += [assembler]"
   ]
  },
  {
   "cell_type": "code",
   "execution_count": 61,
   "id": "4a3f59fb",
   "metadata": {
    "execution": {
     "iopub.execute_input": "2023-01-03T06:15:10.641463Z",
     "iopub.status.busy": "2023-01-03T06:15:10.640899Z",
     "iopub.status.idle": "2023-01-03T06:15:10.652353Z",
     "shell.execute_reply": "2023-01-03T06:15:10.651370Z"
    },
    "papermill": {
     "duration": 0.084393,
     "end_time": "2023-01-03T06:15:10.656088",
     "exception": false,
     "start_time": "2023-01-03T06:15:10.571695",
     "status": "completed"
    },
    "tags": []
   },
   "outputs": [],
   "source": [
    "stages = []\n",
    "stringIndexer = StringIndexer(inputCol = \"degree\", outputCol = \"degreeIndex\")\n",
    "stages += [stringIndexer]"
   ]
  },
  {
   "cell_type": "code",
   "execution_count": 62,
   "id": "3503dfd7",
   "metadata": {
    "execution": {
     "iopub.execute_input": "2023-01-03T06:15:10.792872Z",
     "iopub.status.busy": "2023-01-03T06:15:10.791969Z",
     "iopub.status.idle": "2023-01-03T06:15:10.845832Z",
     "shell.execute_reply": "2023-01-03T06:15:10.844461Z"
    },
    "papermill": {
     "duration": 0.126098,
     "end_time": "2023-01-03T06:15:10.849557",
     "exception": false,
     "start_time": "2023-01-03T06:15:10.723459",
     "status": "completed"
    },
    "tags": []
   },
   "outputs": [],
   "source": [
    "categoricalColumns = [\"companyId\",\"jobType\", \"major\", \"industry\"]\n",
    "for categoricalCol in categoricalColumns:\n",
    "    stringIndexer = StringIndexer(inputCol = categoricalCol, outputCol = categoricalCol + 'Index')\n",
    "    encoder = OneHotEncoder(inputCols=[stringIndexer.getOutputCol()], outputCols=[categoricalCol + \"classVec\"])\n",
    "    stages += [stringIndexer, encoder]\n",
    "numericCols =  [\"yearsExperience\", \"milesFromMetropolis\"]\n",
    "assemblerInputs = [c + \"classVec\" for c in categoricalColumns] + numericCols + [\"degreeIndex\"]\n",
    "assembler = VectorAssembler(inputCols=assemblerInputs, outputCol=\"features\")\n",
    "stages += [assembler]"
   ]
  },
  {
   "cell_type": "code",
   "execution_count": 63,
   "id": "f5510dc4",
   "metadata": {
    "execution": {
     "iopub.execute_input": "2023-01-03T06:15:10.987528Z",
     "iopub.status.busy": "2023-01-03T06:15:10.987059Z",
     "iopub.status.idle": "2023-01-03T06:15:25.216385Z",
     "shell.execute_reply": "2023-01-03T06:15:25.215023Z"
    },
    "papermill": {
     "duration": 14.302357,
     "end_time": "2023-01-03T06:15:25.220699",
     "exception": false,
     "start_time": "2023-01-03T06:15:10.918342",
     "status": "completed"
    },
    "tags": []
   },
   "outputs": [
    {
     "name": "stderr",
     "output_type": "stream",
     "text": [
      "                                                                                \r"
     ]
    }
   ],
   "source": [
    "pipeline = Pipeline(stages = stages)\n",
    "pipelineModel = pipeline.fit(df_encoded)\n",
    "df_encoded = pipelineModel.transform(df_encoded)\n",
    "selectedCols = ['features'] + cols\n",
    "df_encoded = df_encoded.select(selectedCols)"
   ]
  },
  {
   "cell_type": "code",
   "execution_count": 64,
   "id": "6104ba3f",
   "metadata": {
    "execution": {
     "iopub.execute_input": "2023-01-03T06:15:25.366728Z",
     "iopub.status.busy": "2023-01-03T06:15:25.366177Z",
     "iopub.status.idle": "2023-01-03T06:15:27.945822Z",
     "shell.execute_reply": "2023-01-03T06:15:27.944414Z"
    },
    "papermill": {
     "duration": 2.652508,
     "end_time": "2023-01-03T06:15:27.948622",
     "exception": false,
     "start_time": "2023-01-03T06:15:25.296114",
     "status": "completed"
    },
    "tags": []
   },
   "outputs": [
    {
     "name": "stderr",
     "output_type": "stream",
     "text": [
      "[Stage 285:>                                                        (0 + 1) / 1]\r"
     ]
    },
    {
     "name": "stdout",
     "output_type": "stream",
     "text": [
      "+--------------------+---------+-------+-------+-----+--------+---------------+-------------------+------+\n",
      "|            features|companyId|jobType| degree|major|industry|yearsExperience|milesFromMetropolis|salary|\n",
      "+--------------------+---------+-------+-------+-----+--------+---------------+-------------------+------+\n",
      "|(86,[29,82,83,84,...|   COMP37|    CFO|MASTERS| MATH|  HEALTH|             10|                 83|   130|\n",
      "+--------------------+---------+-------+-------+-----+--------+---------------+-------------------+------+\n",
      "only showing top 1 row\n",
      "\n"
     ]
    },
    {
     "name": "stderr",
     "output_type": "stream",
     "text": [
      "                                                                                \r"
     ]
    }
   ],
   "source": [
    "df_encoded.show(1)"
   ]
  },
  {
   "cell_type": "code",
   "execution_count": 65,
   "id": "f7ac865a",
   "metadata": {
    "execution": {
     "iopub.execute_input": "2023-01-03T06:15:28.088165Z",
     "iopub.status.busy": "2023-01-03T06:15:28.087724Z",
     "iopub.status.idle": "2023-01-03T06:15:49.577050Z",
     "shell.execute_reply": "2023-01-03T06:15:49.575739Z"
    },
    "papermill": {
     "duration": 21.562474,
     "end_time": "2023-01-03T06:15:49.580113",
     "exception": false,
     "start_time": "2023-01-03T06:15:28.017639",
     "status": "completed"
    },
    "tags": []
   },
   "outputs": [
    {
     "name": "stderr",
     "output_type": "stream",
     "text": [
      "[Stage 299:>                                                        (0 + 4) / 4]\r"
     ]
    },
    {
     "name": "stdout",
     "output_type": "stream",
     "text": [
      "There are 799647 training examples and 200348 test examples.\n"
     ]
    },
    {
     "name": "stderr",
     "output_type": "stream",
     "text": [
      "                                                                                \r"
     ]
    }
   ],
   "source": [
    "train, test = df_encoded.randomSplit([0.8, 0.2], seed = 42)\n",
    "print(\"There are %d training examples and %d test examples.\" % (train.count(), test.count()))"
   ]
  },
  {
   "cell_type": "code",
   "execution_count": 66,
   "id": "46c4ae4a",
   "metadata": {
    "execution": {
     "iopub.execute_input": "2023-01-03T06:15:49.789450Z",
     "iopub.status.busy": "2023-01-03T06:15:49.788884Z",
     "iopub.status.idle": "2023-01-03T06:15:49.840912Z",
     "shell.execute_reply": "2023-01-03T06:15:49.839584Z"
    },
    "papermill": {
     "duration": 0.158929,
     "end_time": "2023-01-03T06:15:49.844545",
     "exception": false,
     "start_time": "2023-01-03T06:15:49.685616",
     "status": "completed"
    },
    "tags": []
   },
   "outputs": [],
   "source": [
    "gbt =  GBTRegressor(featuresCol=\"features\", labelCol=\"salary\", maxBins=20, maxDepth=12)"
   ]
  },
  {
   "cell_type": "code",
   "execution_count": 67,
   "id": "d86ffe15",
   "metadata": {
    "execution": {
     "iopub.execute_input": "2023-01-03T06:15:49.992729Z",
     "iopub.status.busy": "2023-01-03T06:15:49.992237Z",
     "iopub.status.idle": "2023-01-03T06:20:39.105113Z",
     "shell.execute_reply": "2023-01-03T06:20:39.103668Z"
    },
    "papermill": {
     "duration": 289.1876,
     "end_time": "2023-01-03T06:20:39.108772",
     "exception": false,
     "start_time": "2023-01-03T06:15:49.921172",
     "status": "completed"
    },
    "tags": []
   },
   "outputs": [
    {
     "name": "stderr",
     "output_type": "stream",
     "text": [
      "[Stage 320:>                                                        (0 + 4) / 4]\r"
     ]
    },
    {
     "name": "stdout",
     "output_type": "stream",
     "text": [
      "23/01/03 06:16:21 WARN MemoryStore: Not enough space to cache rdd_811_3 in memory! (computed 31.2 MiB so far)\n",
      "23/01/03 06:16:21 WARN BlockManager: Persisting block rdd_811_3 to disk instead.\n",
      "23/01/03 06:16:21 WARN MemoryStore: Not enough space to cache rdd_811_0 in memory! (computed 13.7 MiB so far)\n",
      "23/01/03 06:16:21 WARN BlockManager: Persisting block rdd_811_0 to disk instead.\n",
      "23/01/03 06:16:21 WARN MemoryStore: Not enough space to cache rdd_811_2 in memory! (computed 31.2 MiB so far)\n",
      "23/01/03 06:16:21 WARN BlockManager: Persisting block rdd_811_2 to disk instead.\n",
      "23/01/03 06:16:21 WARN MemoryStore: Not enough space to cache rdd_811_1 in memory! (computed 46.9 MiB so far)\n",
      "23/01/03 06:16:21 WARN BlockManager: Persisting block rdd_811_1 to disk instead.\n"
     ]
    },
    {
     "name": "stderr",
     "output_type": "stream",
     "text": [
      "                                                                                \r"
     ]
    },
    {
     "name": "stdout",
     "output_type": "stream",
     "text": [
      "23/01/03 06:16:42 WARN DAGScheduler: Broadcasting large task binary with size 1097.5 KiB\n"
     ]
    },
    {
     "name": "stderr",
     "output_type": "stream",
     "text": [
      "                                                                                \r"
     ]
    },
    {
     "name": "stdout",
     "output_type": "stream",
     "text": [
      "23/01/03 06:16:43 WARN DAGScheduler: Broadcasting large task binary with size 1319.0 KiB\n",
      "23/01/03 06:16:44 WARN DAGScheduler: Broadcasting large task binary with size 1324.0 KiB\n"
     ]
    },
    {
     "name": "stderr",
     "output_type": "stream",
     "text": [
      "                                                                                \r"
     ]
    },
    {
     "name": "stdout",
     "output_type": "stream",
     "text": [
      "23/01/03 06:16:46 WARN DAGScheduler: Broadcasting large task binary with size 1324.6 KiB\n",
      "23/01/03 06:16:46 WARN DAGScheduler: Broadcasting large task binary with size 1325.4 KiB\n",
      "23/01/03 06:16:47 WARN DAGScheduler: Broadcasting large task binary with size 1326.5 KiB\n",
      "23/01/03 06:16:47 WARN DAGScheduler: Broadcasting large task binary with size 1329.0 KiB\n",
      "23/01/03 06:16:48 WARN DAGScheduler: Broadcasting large task binary with size 1334.0 KiB\n",
      "23/01/03 06:16:48 WARN DAGScheduler: Broadcasting large task binary with size 1343.9 KiB\n",
      "23/01/03 06:16:49 WARN DAGScheduler: Broadcasting large task binary with size 1363.6 KiB\n"
     ]
    },
    {
     "name": "stderr",
     "output_type": "stream",
     "text": [
      "                                                                                \r"
     ]
    },
    {
     "name": "stdout",
     "output_type": "stream",
     "text": [
      "23/01/03 06:16:49 WARN DAGScheduler: Broadcasting large task binary with size 1400.8 KiB\n",
      "23/01/03 06:16:50 WARN DAGScheduler: Broadcasting large task binary with size 1471.4 KiB\n"
     ]
    },
    {
     "name": "stderr",
     "output_type": "stream",
     "text": [
      "                                                                                \r"
     ]
    },
    {
     "name": "stdout",
     "output_type": "stream",
     "text": [
      "23/01/03 06:16:51 WARN DAGScheduler: Broadcasting large task binary with size 1598.2 KiB\n"
     ]
    },
    {
     "name": "stderr",
     "output_type": "stream",
     "text": [
      "                                                                                \r"
     ]
    },
    {
     "name": "stdout",
     "output_type": "stream",
     "text": [
      "23/01/03 06:16:52 WARN DAGScheduler: Broadcasting large task binary with size 1811.4 KiB\n"
     ]
    },
    {
     "name": "stderr",
     "output_type": "stream",
     "text": [
      "                                                                                \r"
     ]
    },
    {
     "name": "stdout",
     "output_type": "stream",
     "text": [
      "23/01/03 06:16:54 WARN DAGScheduler: Broadcasting large task binary with size 1814.9 KiB\n"
     ]
    },
    {
     "name": "stderr",
     "output_type": "stream",
     "text": [
      "                                                                                \r"
     ]
    },
    {
     "name": "stdout",
     "output_type": "stream",
     "text": [
      "23/01/03 06:16:55 WARN DAGScheduler: Broadcasting large task binary with size 1815.5 KiB\n",
      "23/01/03 06:16:56 WARN DAGScheduler: Broadcasting large task binary with size 1816.3 KiB\n"
     ]
    },
    {
     "name": "stderr",
     "output_type": "stream",
     "text": [
      "                                                                                \r"
     ]
    },
    {
     "name": "stdout",
     "output_type": "stream",
     "text": [
      "23/01/03 06:16:56 WARN DAGScheduler: Broadcasting large task binary with size 1817.4 KiB\n",
      "23/01/03 06:16:57 WARN DAGScheduler: Broadcasting large task binary with size 1819.9 KiB\n",
      "23/01/03 06:16:57 WARN DAGScheduler: Broadcasting large task binary with size 1824.8 KiB\n",
      "23/01/03 06:16:58 WARN DAGScheduler: Broadcasting large task binary with size 1834.6 KiB\n",
      "23/01/03 06:16:59 WARN DAGScheduler: Broadcasting large task binary with size 1854.4 KiB\n",
      "23/01/03 06:16:59 WARN DAGScheduler: Broadcasting large task binary with size 1892.2 KiB\n"
     ]
    },
    {
     "name": "stderr",
     "output_type": "stream",
     "text": [
      "                                                                                \r"
     ]
    },
    {
     "name": "stdout",
     "output_type": "stream",
     "text": [
      "23/01/03 06:17:00 WARN DAGScheduler: Broadcasting large task binary with size 1964.0 KiB\n"
     ]
    },
    {
     "name": "stderr",
     "output_type": "stream",
     "text": [
      "                                                                                \r"
     ]
    },
    {
     "name": "stdout",
     "output_type": "stream",
     "text": [
      "23/01/03 06:17:01 WARN DAGScheduler: Broadcasting large task binary with size 2.0 MiB\n"
     ]
    },
    {
     "name": "stderr",
     "output_type": "stream",
     "text": [
      "                                                                                \r"
     ]
    },
    {
     "name": "stdout",
     "output_type": "stream",
     "text": [
      "23/01/03 06:17:02 WARN DAGScheduler: Broadcasting large task binary with size 2.2 MiB\n"
     ]
    },
    {
     "name": "stderr",
     "output_type": "stream",
     "text": [
      "                                                                                \r"
     ]
    },
    {
     "name": "stdout",
     "output_type": "stream",
     "text": [
      "23/01/03 06:17:03 WARN DAGScheduler: Broadcasting large task binary with size 2.2 MiB\n"
     ]
    },
    {
     "name": "stderr",
     "output_type": "stream",
     "text": [
      "                                                                                \r"
     ]
    },
    {
     "name": "stdout",
     "output_type": "stream",
     "text": [
      "23/01/03 06:17:05 WARN DAGScheduler: Broadcasting large task binary with size 2.2 MiB\n",
      "23/01/03 06:17:06 WARN DAGScheduler: Broadcasting large task binary with size 2.2 MiB\n"
     ]
    },
    {
     "name": "stderr",
     "output_type": "stream",
     "text": [
      "                                                                                \r"
     ]
    },
    {
     "name": "stdout",
     "output_type": "stream",
     "text": [
      "23/01/03 06:17:06 WARN DAGScheduler: Broadcasting large task binary with size 2.3 MiB\n"
     ]
    },
    {
     "name": "stderr",
     "output_type": "stream",
     "text": [
      "                                                                                \r"
     ]
    },
    {
     "name": "stdout",
     "output_type": "stream",
     "text": [
      "23/01/03 06:17:07 WARN DAGScheduler: Broadcasting large task binary with size 2.3 MiB\n"
     ]
    },
    {
     "name": "stderr",
     "output_type": "stream",
     "text": [
      "                                                                                \r"
     ]
    },
    {
     "name": "stdout",
     "output_type": "stream",
     "text": [
      "23/01/03 06:17:08 WARN DAGScheduler: Broadcasting large task binary with size 2.3 MiB\n"
     ]
    },
    {
     "name": "stderr",
     "output_type": "stream",
     "text": [
      "                                                                                \r"
     ]
    },
    {
     "name": "stdout",
     "output_type": "stream",
     "text": [
      "23/01/03 06:17:08 WARN DAGScheduler: Broadcasting large task binary with size 2.3 MiB\n"
     ]
    },
    {
     "name": "stderr",
     "output_type": "stream",
     "text": [
      "                                                                                \r"
     ]
    },
    {
     "name": "stdout",
     "output_type": "stream",
     "text": [
      "23/01/03 06:17:09 WARN DAGScheduler: Broadcasting large task binary with size 2.3 MiB\n"
     ]
    },
    {
     "name": "stderr",
     "output_type": "stream",
     "text": [
      "                                                                                \r"
     ]
    },
    {
     "name": "stdout",
     "output_type": "stream",
     "text": [
      "23/01/03 06:17:10 WARN DAGScheduler: Broadcasting large task binary with size 2.3 MiB\n"
     ]
    },
    {
     "name": "stderr",
     "output_type": "stream",
     "text": [
      "                                                                                \r"
     ]
    },
    {
     "name": "stdout",
     "output_type": "stream",
     "text": [
      "23/01/03 06:17:10 WARN DAGScheduler: Broadcasting large task binary with size 2.4 MiB\n"
     ]
    },
    {
     "name": "stderr",
     "output_type": "stream",
     "text": [
      "                                                                                \r"
     ]
    },
    {
     "name": "stdout",
     "output_type": "stream",
     "text": [
      "23/01/03 06:17:11 WARN DAGScheduler: Broadcasting large task binary with size 2.5 MiB\n"
     ]
    },
    {
     "name": "stderr",
     "output_type": "stream",
     "text": [
      "                                                                                \r"
     ]
    },
    {
     "name": "stdout",
     "output_type": "stream",
     "text": [
      "23/01/03 06:17:12 WARN DAGScheduler: Broadcasting large task binary with size 2.7 MiB\n"
     ]
    },
    {
     "name": "stderr",
     "output_type": "stream",
     "text": [
      "                                                                                \r"
     ]
    },
    {
     "name": "stdout",
     "output_type": "stream",
     "text": [
      "23/01/03 06:17:14 WARN DAGScheduler: Broadcasting large task binary with size 2.7 MiB\n"
     ]
    },
    {
     "name": "stderr",
     "output_type": "stream",
     "text": [
      "                                                                                \r"
     ]
    },
    {
     "name": "stdout",
     "output_type": "stream",
     "text": [
      "23/01/03 06:17:15 WARN DAGScheduler: Broadcasting large task binary with size 2.7 MiB\n",
      "23/01/03 06:17:16 WARN DAGScheduler: Broadcasting large task binary with size 2.7 MiB\n"
     ]
    },
    {
     "name": "stderr",
     "output_type": "stream",
     "text": [
      "                                                                                \r"
     ]
    },
    {
     "name": "stdout",
     "output_type": "stream",
     "text": [
      "23/01/03 06:17:16 WARN DAGScheduler: Broadcasting large task binary with size 2.7 MiB\n",
      "23/01/03 06:17:17 WARN DAGScheduler: Broadcasting large task binary with size 2.7 MiB\n",
      "23/01/03 06:17:18 WARN DAGScheduler: Broadcasting large task binary with size 2.7 MiB\n"
     ]
    },
    {
     "name": "stderr",
     "output_type": "stream",
     "text": [
      "                                                                                \r"
     ]
    },
    {
     "name": "stdout",
     "output_type": "stream",
     "text": [
      "23/01/03 06:17:18 WARN DAGScheduler: Broadcasting large task binary with size 2.8 MiB\n",
      "23/01/03 06:17:19 WARN DAGScheduler: Broadcasting large task binary with size 2.8 MiB\n"
     ]
    },
    {
     "name": "stderr",
     "output_type": "stream",
     "text": [
      "                                                                                \r"
     ]
    },
    {
     "name": "stdout",
     "output_type": "stream",
     "text": [
      "23/01/03 06:17:20 WARN DAGScheduler: Broadcasting large task binary with size 2.8 MiB\n"
     ]
    },
    {
     "name": "stderr",
     "output_type": "stream",
     "text": [
      "                                                                                \r"
     ]
    },
    {
     "name": "stdout",
     "output_type": "stream",
     "text": [
      "23/01/03 06:17:21 WARN DAGScheduler: Broadcasting large task binary with size 2.9 MiB\n"
     ]
    },
    {
     "name": "stderr",
     "output_type": "stream",
     "text": [
      "                                                                                \r"
     ]
    },
    {
     "name": "stdout",
     "output_type": "stream",
     "text": [
      "23/01/03 06:17:22 WARN DAGScheduler: Broadcasting large task binary with size 3.0 MiB\n"
     ]
    },
    {
     "name": "stderr",
     "output_type": "stream",
     "text": [
      "                                                                                \r"
     ]
    },
    {
     "name": "stdout",
     "output_type": "stream",
     "text": [
      "23/01/03 06:17:23 WARN DAGScheduler: Broadcasting large task binary with size 3.2 MiB\n"
     ]
    },
    {
     "name": "stderr",
     "output_type": "stream",
     "text": [
      "                                                                                \r"
     ]
    },
    {
     "name": "stdout",
     "output_type": "stream",
     "text": [
      "23/01/03 06:17:24 WARN DAGScheduler: Broadcasting large task binary with size 3.2 MiB\n"
     ]
    },
    {
     "name": "stderr",
     "output_type": "stream",
     "text": [
      "                                                                                \r"
     ]
    },
    {
     "name": "stdout",
     "output_type": "stream",
     "text": [
      "23/01/03 06:17:25 WARN DAGScheduler: Broadcasting large task binary with size 3.2 MiB\n"
     ]
    },
    {
     "name": "stderr",
     "output_type": "stream",
     "text": [
      "                                                                                \r"
     ]
    },
    {
     "name": "stdout",
     "output_type": "stream",
     "text": [
      "23/01/03 06:17:26 WARN DAGScheduler: Broadcasting large task binary with size 3.2 MiB\n",
      "23/01/03 06:17:27 WARN DAGScheduler: Broadcasting large task binary with size 3.2 MiB\n"
     ]
    },
    {
     "name": "stderr",
     "output_type": "stream",
     "text": [
      "                                                                                \r"
     ]
    },
    {
     "name": "stdout",
     "output_type": "stream",
     "text": [
      "23/01/03 06:17:28 WARN DAGScheduler: Broadcasting large task binary with size 3.2 MiB\n"
     ]
    },
    {
     "name": "stderr",
     "output_type": "stream",
     "text": [
      "                                                                                \r"
     ]
    },
    {
     "name": "stdout",
     "output_type": "stream",
     "text": [
      "23/01/03 06:17:28 WARN DAGScheduler: Broadcasting large task binary with size 3.2 MiB\n"
     ]
    },
    {
     "name": "stderr",
     "output_type": "stream",
     "text": [
      "                                                                                \r"
     ]
    },
    {
     "name": "stdout",
     "output_type": "stream",
     "text": [
      "23/01/03 06:17:29 WARN DAGScheduler: Broadcasting large task binary with size 3.2 MiB\n"
     ]
    },
    {
     "name": "stderr",
     "output_type": "stream",
     "text": [
      "                                                                                \r"
     ]
    },
    {
     "name": "stdout",
     "output_type": "stream",
     "text": [
      "23/01/03 06:17:30 WARN DAGScheduler: Broadcasting large task binary with size 3.2 MiB\n"
     ]
    },
    {
     "name": "stderr",
     "output_type": "stream",
     "text": [
      "                                                                                \r"
     ]
    },
    {
     "name": "stdout",
     "output_type": "stream",
     "text": [
      "23/01/03 06:17:30 WARN DAGScheduler: Broadcasting large task binary with size 3.3 MiB\n"
     ]
    },
    {
     "name": "stderr",
     "output_type": "stream",
     "text": [
      "                                                                                \r"
     ]
    },
    {
     "name": "stdout",
     "output_type": "stream",
     "text": [
      "23/01/03 06:17:31 WARN DAGScheduler: Broadcasting large task binary with size 3.3 MiB\n"
     ]
    },
    {
     "name": "stderr",
     "output_type": "stream",
     "text": [
      "                                                                                \r"
     ]
    },
    {
     "name": "stdout",
     "output_type": "stream",
     "text": [
      "23/01/03 06:17:32 WARN DAGScheduler: Broadcasting large task binary with size 3.5 MiB\n"
     ]
    },
    {
     "name": "stderr",
     "output_type": "stream",
     "text": [
      "                                                                                \r"
     ]
    },
    {
     "name": "stdout",
     "output_type": "stream",
     "text": [
      "23/01/03 06:17:34 WARN DAGScheduler: Broadcasting large task binary with size 3.7 MiB\n"
     ]
    },
    {
     "name": "stderr",
     "output_type": "stream",
     "text": [
      "                                                                                \r"
     ]
    },
    {
     "name": "stdout",
     "output_type": "stream",
     "text": [
      "23/01/03 06:17:35 WARN DAGScheduler: Broadcasting large task binary with size 3.7 MiB\n"
     ]
    },
    {
     "name": "stderr",
     "output_type": "stream",
     "text": [
      "                                                                                \r"
     ]
    },
    {
     "name": "stdout",
     "output_type": "stream",
     "text": [
      "23/01/03 06:17:37 WARN DAGScheduler: Broadcasting large task binary with size 3.7 MiB\n"
     ]
    },
    {
     "name": "stderr",
     "output_type": "stream",
     "text": [
      "                                                                                \r"
     ]
    },
    {
     "name": "stdout",
     "output_type": "stream",
     "text": [
      "23/01/03 06:17:38 WARN DAGScheduler: Broadcasting large task binary with size 3.7 MiB\n"
     ]
    },
    {
     "name": "stderr",
     "output_type": "stream",
     "text": [
      "                                                                                \r"
     ]
    },
    {
     "name": "stdout",
     "output_type": "stream",
     "text": [
      "23/01/03 06:17:38 WARN DAGScheduler: Broadcasting large task binary with size 3.7 MiB\n"
     ]
    },
    {
     "name": "stderr",
     "output_type": "stream",
     "text": [
      "                                                                                \r"
     ]
    },
    {
     "name": "stdout",
     "output_type": "stream",
     "text": [
      "23/01/03 06:17:39 WARN DAGScheduler: Broadcasting large task binary with size 3.7 MiB\n"
     ]
    },
    {
     "name": "stderr",
     "output_type": "stream",
     "text": [
      "                                                                                \r"
     ]
    },
    {
     "name": "stdout",
     "output_type": "stream",
     "text": [
      "23/01/03 06:17:40 WARN DAGScheduler: Broadcasting large task binary with size 3.7 MiB\n"
     ]
    },
    {
     "name": "stderr",
     "output_type": "stream",
     "text": [
      "                                                                                \r"
     ]
    },
    {
     "name": "stdout",
     "output_type": "stream",
     "text": [
      "23/01/03 06:17:40 WARN DAGScheduler: Broadcasting large task binary with size 3.7 MiB\n"
     ]
    },
    {
     "name": "stderr",
     "output_type": "stream",
     "text": [
      "                                                                                \r"
     ]
    },
    {
     "name": "stdout",
     "output_type": "stream",
     "text": [
      "23/01/03 06:17:41 WARN DAGScheduler: Broadcasting large task binary with size 3.7 MiB\n"
     ]
    },
    {
     "name": "stderr",
     "output_type": "stream",
     "text": [
      "                                                                                \r"
     ]
    },
    {
     "name": "stdout",
     "output_type": "stream",
     "text": [
      "23/01/03 06:17:42 WARN DAGScheduler: Broadcasting large task binary with size 3.7 MiB\n"
     ]
    },
    {
     "name": "stderr",
     "output_type": "stream",
     "text": [
      "                                                                                \r"
     ]
    },
    {
     "name": "stdout",
     "output_type": "stream",
     "text": [
      "23/01/03 06:17:43 WARN DAGScheduler: Broadcasting large task binary with size 3.8 MiB\n"
     ]
    },
    {
     "name": "stderr",
     "output_type": "stream",
     "text": [
      "                                                                                \r"
     ]
    },
    {
     "name": "stdout",
     "output_type": "stream",
     "text": [
      "23/01/03 06:17:44 WARN DAGScheduler: Broadcasting large task binary with size 3.9 MiB\n"
     ]
    },
    {
     "name": "stderr",
     "output_type": "stream",
     "text": [
      "                                                                                \r"
     ]
    },
    {
     "name": "stdout",
     "output_type": "stream",
     "text": [
      "23/01/03 06:17:45 WARN DAGScheduler: Broadcasting large task binary with size 4.2 MiB\n"
     ]
    },
    {
     "name": "stderr",
     "output_type": "stream",
     "text": [
      "                                                                                \r"
     ]
    },
    {
     "name": "stdout",
     "output_type": "stream",
     "text": [
      "23/01/03 06:17:46 WARN DAGScheduler: Broadcasting large task binary with size 4.2 MiB\n"
     ]
    },
    {
     "name": "stderr",
     "output_type": "stream",
     "text": [
      "                                                                                \r"
     ]
    },
    {
     "name": "stdout",
     "output_type": "stream",
     "text": [
      "23/01/03 06:17:48 WARN DAGScheduler: Broadcasting large task binary with size 4.2 MiB\n"
     ]
    },
    {
     "name": "stderr",
     "output_type": "stream",
     "text": [
      "                                                                                \r"
     ]
    },
    {
     "name": "stdout",
     "output_type": "stream",
     "text": [
      "23/01/03 06:17:49 WARN DAGScheduler: Broadcasting large task binary with size 4.2 MiB\n"
     ]
    },
    {
     "name": "stderr",
     "output_type": "stream",
     "text": [
      "                                                                                \r"
     ]
    },
    {
     "name": "stdout",
     "output_type": "stream",
     "text": [
      "23/01/03 06:17:50 WARN DAGScheduler: Broadcasting large task binary with size 4.2 MiB\n"
     ]
    },
    {
     "name": "stderr",
     "output_type": "stream",
     "text": [
      "                                                                                \r"
     ]
    },
    {
     "name": "stdout",
     "output_type": "stream",
     "text": [
      "23/01/03 06:17:50 WARN DAGScheduler: Broadcasting large task binary with size 4.2 MiB\n"
     ]
    },
    {
     "name": "stderr",
     "output_type": "stream",
     "text": [
      "                                                                                \r"
     ]
    },
    {
     "name": "stdout",
     "output_type": "stream",
     "text": [
      "23/01/03 06:17:51 WARN DAGScheduler: Broadcasting large task binary with size 4.2 MiB\n"
     ]
    },
    {
     "name": "stderr",
     "output_type": "stream",
     "text": [
      "                                                                                \r"
     ]
    },
    {
     "name": "stdout",
     "output_type": "stream",
     "text": [
      "23/01/03 06:17:52 WARN DAGScheduler: Broadcasting large task binary with size 4.2 MiB\n"
     ]
    },
    {
     "name": "stderr",
     "output_type": "stream",
     "text": [
      "                                                                                \r"
     ]
    },
    {
     "name": "stdout",
     "output_type": "stream",
     "text": [
      "23/01/03 06:17:53 WARN DAGScheduler: Broadcasting large task binary with size 4.2 MiB\n"
     ]
    },
    {
     "name": "stderr",
     "output_type": "stream",
     "text": [
      "                                                                                \r"
     ]
    },
    {
     "name": "stdout",
     "output_type": "stream",
     "text": [
      "23/01/03 06:17:54 WARN DAGScheduler: Broadcasting large task binary with size 4.2 MiB\n"
     ]
    },
    {
     "name": "stderr",
     "output_type": "stream",
     "text": [
      "                                                                                \r"
     ]
    },
    {
     "name": "stdout",
     "output_type": "stream",
     "text": [
      "23/01/03 06:17:55 WARN DAGScheduler: Broadcasting large task binary with size 4.3 MiB\n"
     ]
    },
    {
     "name": "stderr",
     "output_type": "stream",
     "text": [
      "                                                                                \r"
     ]
    },
    {
     "name": "stdout",
     "output_type": "stream",
     "text": [
      "23/01/03 06:17:56 WARN DAGScheduler: Broadcasting large task binary with size 4.4 MiB\n"
     ]
    },
    {
     "name": "stderr",
     "output_type": "stream",
     "text": [
      "                                                                                \r"
     ]
    },
    {
     "name": "stdout",
     "output_type": "stream",
     "text": [
      "23/01/03 06:17:57 WARN DAGScheduler: Broadcasting large task binary with size 4.6 MiB\n"
     ]
    },
    {
     "name": "stderr",
     "output_type": "stream",
     "text": [
      "                                                                                \r"
     ]
    },
    {
     "name": "stdout",
     "output_type": "stream",
     "text": [
      "23/01/03 06:17:58 WARN DAGScheduler: Broadcasting large task binary with size 4.6 MiB\n"
     ]
    },
    {
     "name": "stderr",
     "output_type": "stream",
     "text": [
      "                                                                                \r"
     ]
    },
    {
     "name": "stdout",
     "output_type": "stream",
     "text": [
      "23/01/03 06:18:00 WARN DAGScheduler: Broadcasting large task binary with size 4.6 MiB\n"
     ]
    },
    {
     "name": "stderr",
     "output_type": "stream",
     "text": [
      "                                                                                \r"
     ]
    },
    {
     "name": "stdout",
     "output_type": "stream",
     "text": [
      "23/01/03 06:18:01 WARN DAGScheduler: Broadcasting large task binary with size 4.6 MiB\n"
     ]
    },
    {
     "name": "stderr",
     "output_type": "stream",
     "text": [
      "                                                                                \r"
     ]
    },
    {
     "name": "stdout",
     "output_type": "stream",
     "text": [
      "23/01/03 06:18:02 WARN DAGScheduler: Broadcasting large task binary with size 4.6 MiB\n"
     ]
    },
    {
     "name": "stderr",
     "output_type": "stream",
     "text": [
      "                                                                                \r"
     ]
    },
    {
     "name": "stdout",
     "output_type": "stream",
     "text": [
      "23/01/03 06:18:02 WARN DAGScheduler: Broadcasting large task binary with size 4.6 MiB\n"
     ]
    },
    {
     "name": "stderr",
     "output_type": "stream",
     "text": [
      "                                                                                \r"
     ]
    },
    {
     "name": "stdout",
     "output_type": "stream",
     "text": [
      "23/01/03 06:18:03 WARN DAGScheduler: Broadcasting large task binary with size 4.6 MiB\n"
     ]
    },
    {
     "name": "stderr",
     "output_type": "stream",
     "text": [
      "                                                                                \r"
     ]
    },
    {
     "name": "stdout",
     "output_type": "stream",
     "text": [
      "23/01/03 06:18:04 WARN DAGScheduler: Broadcasting large task binary with size 4.6 MiB\n"
     ]
    },
    {
     "name": "stderr",
     "output_type": "stream",
     "text": [
      "                                                                                \r"
     ]
    },
    {
     "name": "stdout",
     "output_type": "stream",
     "text": [
      "23/01/03 06:18:05 WARN DAGScheduler: Broadcasting large task binary with size 4.6 MiB\n"
     ]
    },
    {
     "name": "stderr",
     "output_type": "stream",
     "text": [
      "                                                                                \r"
     ]
    },
    {
     "name": "stdout",
     "output_type": "stream",
     "text": [
      "23/01/03 06:18:06 WARN DAGScheduler: Broadcasting large task binary with size 4.7 MiB\n"
     ]
    },
    {
     "name": "stderr",
     "output_type": "stream",
     "text": [
      "                                                                                \r"
     ]
    },
    {
     "name": "stdout",
     "output_type": "stream",
     "text": [
      "23/01/03 06:18:07 WARN DAGScheduler: Broadcasting large task binary with size 4.8 MiB\n"
     ]
    },
    {
     "name": "stderr",
     "output_type": "stream",
     "text": [
      "                                                                                \r"
     ]
    },
    {
     "name": "stdout",
     "output_type": "stream",
     "text": [
      "23/01/03 06:18:08 WARN DAGScheduler: Broadcasting large task binary with size 4.9 MiB\n"
     ]
    },
    {
     "name": "stderr",
     "output_type": "stream",
     "text": [
      "                                                                                \r"
     ]
    },
    {
     "name": "stdout",
     "output_type": "stream",
     "text": [
      "23/01/03 06:18:09 WARN DAGScheduler: Broadcasting large task binary with size 5.1 MiB\n"
     ]
    },
    {
     "name": "stderr",
     "output_type": "stream",
     "text": [
      "                                                                                \r"
     ]
    },
    {
     "name": "stdout",
     "output_type": "stream",
     "text": [
      "23/01/03 06:18:11 WARN DAGScheduler: Broadcasting large task binary with size 5.1 MiB\n"
     ]
    },
    {
     "name": "stderr",
     "output_type": "stream",
     "text": [
      "                                                                                \r"
     ]
    },
    {
     "name": "stdout",
     "output_type": "stream",
     "text": [
      "23/01/03 06:18:12 WARN DAGScheduler: Broadcasting large task binary with size 5.1 MiB\n"
     ]
    },
    {
     "name": "stderr",
     "output_type": "stream",
     "text": [
      "                                                                                \r"
     ]
    },
    {
     "name": "stdout",
     "output_type": "stream",
     "text": [
      "23/01/03 06:18:13 WARN DAGScheduler: Broadcasting large task binary with size 5.1 MiB\n"
     ]
    },
    {
     "name": "stderr",
     "output_type": "stream",
     "text": [
      "                                                                                \r"
     ]
    },
    {
     "name": "stdout",
     "output_type": "stream",
     "text": [
      "23/01/03 06:18:14 WARN DAGScheduler: Broadcasting large task binary with size 5.1 MiB\n"
     ]
    },
    {
     "name": "stderr",
     "output_type": "stream",
     "text": [
      "                                                                                \r"
     ]
    },
    {
     "name": "stdout",
     "output_type": "stream",
     "text": [
      "23/01/03 06:18:15 WARN DAGScheduler: Broadcasting large task binary with size 5.1 MiB\n"
     ]
    },
    {
     "name": "stderr",
     "output_type": "stream",
     "text": [
      "                                                                                \r"
     ]
    },
    {
     "name": "stdout",
     "output_type": "stream",
     "text": [
      "23/01/03 06:18:16 WARN DAGScheduler: Broadcasting large task binary with size 5.1 MiB\n"
     ]
    },
    {
     "name": "stderr",
     "output_type": "stream",
     "text": [
      "                                                                                \r"
     ]
    },
    {
     "name": "stdout",
     "output_type": "stream",
     "text": [
      "23/01/03 06:18:17 WARN DAGScheduler: Broadcasting large task binary with size 5.1 MiB\n"
     ]
    },
    {
     "name": "stderr",
     "output_type": "stream",
     "text": [
      "                                                                                \r"
     ]
    },
    {
     "name": "stdout",
     "output_type": "stream",
     "text": [
      "23/01/03 06:18:18 WARN DAGScheduler: Broadcasting large task binary with size 5.1 MiB\n"
     ]
    },
    {
     "name": "stderr",
     "output_type": "stream",
     "text": [
      "                                                                                \r"
     ]
    },
    {
     "name": "stdout",
     "output_type": "stream",
     "text": [
      "23/01/03 06:18:19 WARN DAGScheduler: Broadcasting large task binary with size 5.2 MiB\n"
     ]
    },
    {
     "name": "stderr",
     "output_type": "stream",
     "text": [
      "                                                                                \r"
     ]
    },
    {
     "name": "stdout",
     "output_type": "stream",
     "text": [
      "23/01/03 06:18:20 WARN DAGScheduler: Broadcasting large task binary with size 5.2 MiB\n"
     ]
    },
    {
     "name": "stderr",
     "output_type": "stream",
     "text": [
      "                                                                                \r"
     ]
    },
    {
     "name": "stdout",
     "output_type": "stream",
     "text": [
      "23/01/03 06:18:21 WARN DAGScheduler: Broadcasting large task binary with size 5.3 MiB\n"
     ]
    },
    {
     "name": "stderr",
     "output_type": "stream",
     "text": [
      "                                                                                \r"
     ]
    },
    {
     "name": "stdout",
     "output_type": "stream",
     "text": [
      "23/01/03 06:18:22 WARN DAGScheduler: Broadcasting large task binary with size 5.5 MiB\n"
     ]
    },
    {
     "name": "stderr",
     "output_type": "stream",
     "text": [
      "                                                                                \r"
     ]
    },
    {
     "name": "stdout",
     "output_type": "stream",
     "text": [
      "23/01/03 06:18:23 WARN DAGScheduler: Broadcasting large task binary with size 5.5 MiB\n"
     ]
    },
    {
     "name": "stderr",
     "output_type": "stream",
     "text": [
      "                                                                                \r"
     ]
    },
    {
     "name": "stdout",
     "output_type": "stream",
     "text": [
      "23/01/03 06:18:25 WARN DAGScheduler: Broadcasting large task binary with size 5.5 MiB\n"
     ]
    },
    {
     "name": "stderr",
     "output_type": "stream",
     "text": [
      "                                                                                \r"
     ]
    },
    {
     "name": "stdout",
     "output_type": "stream",
     "text": [
      "23/01/03 06:18:26 WARN DAGScheduler: Broadcasting large task binary with size 5.5 MiB\n"
     ]
    },
    {
     "name": "stderr",
     "output_type": "stream",
     "text": [
      "                                                                                \r"
     ]
    },
    {
     "name": "stdout",
     "output_type": "stream",
     "text": [
      "23/01/03 06:18:27 WARN DAGScheduler: Broadcasting large task binary with size 5.5 MiB\n"
     ]
    },
    {
     "name": "stderr",
     "output_type": "stream",
     "text": [
      "                                                                                \r"
     ]
    },
    {
     "name": "stdout",
     "output_type": "stream",
     "text": [
      "23/01/03 06:18:28 WARN DAGScheduler: Broadcasting large task binary with size 5.5 MiB\n"
     ]
    },
    {
     "name": "stderr",
     "output_type": "stream",
     "text": [
      "                                                                                \r"
     ]
    },
    {
     "name": "stdout",
     "output_type": "stream",
     "text": [
      "23/01/03 06:18:28 WARN DAGScheduler: Broadcasting large task binary with size 5.5 MiB\n"
     ]
    },
    {
     "name": "stderr",
     "output_type": "stream",
     "text": [
      "                                                                                \r"
     ]
    },
    {
     "name": "stdout",
     "output_type": "stream",
     "text": [
      "23/01/03 06:18:29 WARN DAGScheduler: Broadcasting large task binary with size 5.5 MiB\n"
     ]
    },
    {
     "name": "stderr",
     "output_type": "stream",
     "text": [
      "                                                                                \r"
     ]
    },
    {
     "name": "stdout",
     "output_type": "stream",
     "text": [
      "23/01/03 06:18:30 WARN DAGScheduler: Broadcasting large task binary with size 5.5 MiB\n"
     ]
    },
    {
     "name": "stderr",
     "output_type": "stream",
     "text": [
      "                                                                                \r"
     ]
    },
    {
     "name": "stdout",
     "output_type": "stream",
     "text": [
      "23/01/03 06:18:31 WARN DAGScheduler: Broadcasting large task binary with size 5.6 MiB\n"
     ]
    },
    {
     "name": "stderr",
     "output_type": "stream",
     "text": [
      "                                                                                \r"
     ]
    },
    {
     "name": "stdout",
     "output_type": "stream",
     "text": [
      "23/01/03 06:18:32 WARN DAGScheduler: Broadcasting large task binary with size 5.6 MiB\n"
     ]
    },
    {
     "name": "stderr",
     "output_type": "stream",
     "text": [
      "                                                                                \r"
     ]
    },
    {
     "name": "stdout",
     "output_type": "stream",
     "text": [
      "23/01/03 06:18:34 WARN DAGScheduler: Broadcasting large task binary with size 5.8 MiB\n"
     ]
    },
    {
     "name": "stderr",
     "output_type": "stream",
     "text": [
      "                                                                                \r"
     ]
    },
    {
     "name": "stdout",
     "output_type": "stream",
     "text": [
      "23/01/03 06:18:35 WARN DAGScheduler: Broadcasting large task binary with size 6.0 MiB\n"
     ]
    },
    {
     "name": "stderr",
     "output_type": "stream",
     "text": [
      "                                                                                \r"
     ]
    },
    {
     "name": "stdout",
     "output_type": "stream",
     "text": [
      "23/01/03 06:18:37 WARN DAGScheduler: Broadcasting large task binary with size 6.0 MiB\n"
     ]
    },
    {
     "name": "stderr",
     "output_type": "stream",
     "text": [
      "                                                                                \r"
     ]
    },
    {
     "name": "stdout",
     "output_type": "stream",
     "text": [
      "23/01/03 06:18:38 WARN DAGScheduler: Broadcasting large task binary with size 6.0 MiB\n"
     ]
    },
    {
     "name": "stderr",
     "output_type": "stream",
     "text": [
      "                                                                                \r"
     ]
    },
    {
     "name": "stdout",
     "output_type": "stream",
     "text": [
      "23/01/03 06:18:39 WARN DAGScheduler: Broadcasting large task binary with size 6.0 MiB\n"
     ]
    },
    {
     "name": "stderr",
     "output_type": "stream",
     "text": [
      "                                                                                \r"
     ]
    },
    {
     "name": "stdout",
     "output_type": "stream",
     "text": [
      "23/01/03 06:18:41 WARN DAGScheduler: Broadcasting large task binary with size 6.0 MiB\n"
     ]
    },
    {
     "name": "stderr",
     "output_type": "stream",
     "text": [
      "                                                                                \r"
     ]
    },
    {
     "name": "stdout",
     "output_type": "stream",
     "text": [
      "23/01/03 06:18:42 WARN DAGScheduler: Broadcasting large task binary with size 6.0 MiB\n"
     ]
    },
    {
     "name": "stderr",
     "output_type": "stream",
     "text": [
      "                                                                                \r"
     ]
    },
    {
     "name": "stdout",
     "output_type": "stream",
     "text": [
      "23/01/03 06:18:43 WARN DAGScheduler: Broadcasting large task binary with size 6.0 MiB\n"
     ]
    },
    {
     "name": "stderr",
     "output_type": "stream",
     "text": [
      "                                                                                \r"
     ]
    },
    {
     "name": "stdout",
     "output_type": "stream",
     "text": [
      "23/01/03 06:18:44 WARN DAGScheduler: Broadcasting large task binary with size 6.1 MiB\n"
     ]
    },
    {
     "name": "stderr",
     "output_type": "stream",
     "text": [
      "                                                                                \r"
     ]
    },
    {
     "name": "stdout",
     "output_type": "stream",
     "text": [
      "23/01/03 06:18:45 WARN DAGScheduler: Broadcasting large task binary with size 6.1 MiB\n"
     ]
    },
    {
     "name": "stderr",
     "output_type": "stream",
     "text": [
      "                                                                                \r"
     ]
    },
    {
     "name": "stdout",
     "output_type": "stream",
     "text": [
      "23/01/03 06:18:46 WARN DAGScheduler: Broadcasting large task binary with size 6.1 MiB\n"
     ]
    },
    {
     "name": "stderr",
     "output_type": "stream",
     "text": [
      "                                                                                \r"
     ]
    },
    {
     "name": "stdout",
     "output_type": "stream",
     "text": [
      "23/01/03 06:18:47 WARN DAGScheduler: Broadcasting large task binary with size 6.2 MiB\n"
     ]
    },
    {
     "name": "stderr",
     "output_type": "stream",
     "text": [
      "                                                                                \r"
     ]
    },
    {
     "name": "stdout",
     "output_type": "stream",
     "text": [
      "23/01/03 06:18:48 WARN DAGScheduler: Broadcasting large task binary with size 6.3 MiB\n"
     ]
    },
    {
     "name": "stderr",
     "output_type": "stream",
     "text": [
      "                                                                                \r"
     ]
    },
    {
     "name": "stdout",
     "output_type": "stream",
     "text": [
      "23/01/03 06:18:49 WARN DAGScheduler: Broadcasting large task binary with size 6.5 MiB\n"
     ]
    },
    {
     "name": "stderr",
     "output_type": "stream",
     "text": [
      "                                                                                \r"
     ]
    },
    {
     "name": "stdout",
     "output_type": "stream",
     "text": [
      "23/01/03 06:18:51 WARN DAGScheduler: Broadcasting large task binary with size 6.5 MiB\n"
     ]
    },
    {
     "name": "stderr",
     "output_type": "stream",
     "text": [
      "                                                                                \r"
     ]
    },
    {
     "name": "stdout",
     "output_type": "stream",
     "text": [
      "23/01/03 06:18:52 WARN DAGScheduler: Broadcasting large task binary with size 6.5 MiB\n"
     ]
    },
    {
     "name": "stderr",
     "output_type": "stream",
     "text": [
      "                                                                                \r"
     ]
    },
    {
     "name": "stdout",
     "output_type": "stream",
     "text": [
      "23/01/03 06:18:53 WARN DAGScheduler: Broadcasting large task binary with size 6.5 MiB\n"
     ]
    },
    {
     "name": "stderr",
     "output_type": "stream",
     "text": [
      "                                                                                \r"
     ]
    },
    {
     "name": "stdout",
     "output_type": "stream",
     "text": [
      "23/01/03 06:18:54 WARN DAGScheduler: Broadcasting large task binary with size 6.5 MiB\n"
     ]
    },
    {
     "name": "stderr",
     "output_type": "stream",
     "text": [
      "                                                                                \r"
     ]
    },
    {
     "name": "stdout",
     "output_type": "stream",
     "text": [
      "23/01/03 06:18:55 WARN DAGScheduler: Broadcasting large task binary with size 6.5 MiB\n"
     ]
    },
    {
     "name": "stderr",
     "output_type": "stream",
     "text": [
      "                                                                                \r"
     ]
    },
    {
     "name": "stdout",
     "output_type": "stream",
     "text": [
      "23/01/03 06:18:56 WARN DAGScheduler: Broadcasting large task binary with size 6.5 MiB\n"
     ]
    },
    {
     "name": "stderr",
     "output_type": "stream",
     "text": [
      "                                                                                \r"
     ]
    },
    {
     "name": "stdout",
     "output_type": "stream",
     "text": [
      "23/01/03 06:18:57 WARN DAGScheduler: Broadcasting large task binary with size 6.5 MiB\n"
     ]
    },
    {
     "name": "stderr",
     "output_type": "stream",
     "text": [
      "                                                                                \r"
     ]
    },
    {
     "name": "stdout",
     "output_type": "stream",
     "text": [
      "23/01/03 06:18:58 WARN DAGScheduler: Broadcasting large task binary with size 6.5 MiB\n"
     ]
    },
    {
     "name": "stderr",
     "output_type": "stream",
     "text": [
      "                                                                                \r"
     ]
    },
    {
     "name": "stdout",
     "output_type": "stream",
     "text": [
      "23/01/03 06:18:59 WARN DAGScheduler: Broadcasting large task binary with size 6.5 MiB\n"
     ]
    },
    {
     "name": "stderr",
     "output_type": "stream",
     "text": [
      "                                                                                \r"
     ]
    },
    {
     "name": "stdout",
     "output_type": "stream",
     "text": [
      "23/01/03 06:19:00 WARN DAGScheduler: Broadcasting large task binary with size 6.6 MiB\n"
     ]
    },
    {
     "name": "stderr",
     "output_type": "stream",
     "text": [
      "                                                                                \r"
     ]
    },
    {
     "name": "stdout",
     "output_type": "stream",
     "text": [
      "23/01/03 06:19:02 WARN DAGScheduler: Broadcasting large task binary with size 6.7 MiB\n"
     ]
    },
    {
     "name": "stderr",
     "output_type": "stream",
     "text": [
      "                                                                                \r"
     ]
    },
    {
     "name": "stdout",
     "output_type": "stream",
     "text": [
      "23/01/03 06:19:03 WARN DAGScheduler: Broadcasting large task binary with size 6.9 MiB\n"
     ]
    },
    {
     "name": "stderr",
     "output_type": "stream",
     "text": [
      "                                                                                \r"
     ]
    },
    {
     "name": "stdout",
     "output_type": "stream",
     "text": [
      "23/01/03 06:19:04 WARN DAGScheduler: Broadcasting large task binary with size 6.9 MiB\n"
     ]
    },
    {
     "name": "stderr",
     "output_type": "stream",
     "text": [
      "                                                                                \r"
     ]
    },
    {
     "name": "stdout",
     "output_type": "stream",
     "text": [
      "23/01/03 06:19:06 WARN DAGScheduler: Broadcasting large task binary with size 6.9 MiB\n"
     ]
    },
    {
     "name": "stderr",
     "output_type": "stream",
     "text": [
      "                                                                                \r"
     ]
    },
    {
     "name": "stdout",
     "output_type": "stream",
     "text": [
      "23/01/03 06:19:07 WARN DAGScheduler: Broadcasting large task binary with size 6.9 MiB\n"
     ]
    },
    {
     "name": "stderr",
     "output_type": "stream",
     "text": [
      "                                                                                \r"
     ]
    },
    {
     "name": "stdout",
     "output_type": "stream",
     "text": [
      "23/01/03 06:19:08 WARN DAGScheduler: Broadcasting large task binary with size 6.9 MiB\n"
     ]
    },
    {
     "name": "stderr",
     "output_type": "stream",
     "text": [
      "                                                                                \r"
     ]
    },
    {
     "name": "stdout",
     "output_type": "stream",
     "text": [
      "23/01/03 06:19:09 WARN DAGScheduler: Broadcasting large task binary with size 6.9 MiB\n"
     ]
    },
    {
     "name": "stderr",
     "output_type": "stream",
     "text": [
      "                                                                                \r"
     ]
    },
    {
     "name": "stdout",
     "output_type": "stream",
     "text": [
      "23/01/03 06:19:10 WARN DAGScheduler: Broadcasting large task binary with size 6.9 MiB\n"
     ]
    },
    {
     "name": "stderr",
     "output_type": "stream",
     "text": [
      "                                                                                \r"
     ]
    },
    {
     "name": "stdout",
     "output_type": "stream",
     "text": [
      "23/01/03 06:19:11 WARN DAGScheduler: Broadcasting large task binary with size 6.9 MiB\n"
     ]
    },
    {
     "name": "stderr",
     "output_type": "stream",
     "text": [
      "                                                                                \r"
     ]
    },
    {
     "name": "stdout",
     "output_type": "stream",
     "text": [
      "23/01/03 06:19:13 WARN DAGScheduler: Broadcasting large task binary with size 6.9 MiB\n"
     ]
    },
    {
     "name": "stderr",
     "output_type": "stream",
     "text": [
      "                                                                                \r"
     ]
    },
    {
     "name": "stdout",
     "output_type": "stream",
     "text": [
      "23/01/03 06:19:14 WARN DAGScheduler: Broadcasting large task binary with size 6.9 MiB\n"
     ]
    },
    {
     "name": "stderr",
     "output_type": "stream",
     "text": [
      "                                                                                \r"
     ]
    },
    {
     "name": "stdout",
     "output_type": "stream",
     "text": [
      "23/01/03 06:19:15 WARN DAGScheduler: Broadcasting large task binary with size 7.0 MiB\n"
     ]
    },
    {
     "name": "stderr",
     "output_type": "stream",
     "text": [
      "                                                                                \r"
     ]
    },
    {
     "name": "stdout",
     "output_type": "stream",
     "text": [
      "23/01/03 06:19:16 WARN DAGScheduler: Broadcasting large task binary with size 7.1 MiB\n"
     ]
    },
    {
     "name": "stderr",
     "output_type": "stream",
     "text": [
      "                                                                                \r"
     ]
    },
    {
     "name": "stdout",
     "output_type": "stream",
     "text": [
      "23/01/03 06:19:17 WARN DAGScheduler: Broadcasting large task binary with size 7.2 MiB\n"
     ]
    },
    {
     "name": "stderr",
     "output_type": "stream",
     "text": [
      "                                                                                \r"
     ]
    },
    {
     "name": "stdout",
     "output_type": "stream",
     "text": [
      "23/01/03 06:19:19 WARN DAGScheduler: Broadcasting large task binary with size 7.2 MiB\n"
     ]
    },
    {
     "name": "stderr",
     "output_type": "stream",
     "text": [
      "                                                                                \r"
     ]
    },
    {
     "name": "stdout",
     "output_type": "stream",
     "text": [
      "23/01/03 06:19:20 WARN DAGScheduler: Broadcasting large task binary with size 7.2 MiB\n"
     ]
    },
    {
     "name": "stderr",
     "output_type": "stream",
     "text": [
      "                                                                                \r"
     ]
    },
    {
     "name": "stdout",
     "output_type": "stream",
     "text": [
      "23/01/03 06:19:21 WARN DAGScheduler: Broadcasting large task binary with size 7.2 MiB\n"
     ]
    },
    {
     "name": "stderr",
     "output_type": "stream",
     "text": [
      "                                                                                \r"
     ]
    },
    {
     "name": "stdout",
     "output_type": "stream",
     "text": [
      "23/01/03 06:19:22 WARN DAGScheduler: Broadcasting large task binary with size 7.2 MiB\n"
     ]
    },
    {
     "name": "stderr",
     "output_type": "stream",
     "text": [
      "                                                                                \r"
     ]
    },
    {
     "name": "stdout",
     "output_type": "stream",
     "text": [
      "23/01/03 06:19:24 WARN DAGScheduler: Broadcasting large task binary with size 7.2 MiB\n"
     ]
    },
    {
     "name": "stderr",
     "output_type": "stream",
     "text": [
      "                                                                                \r"
     ]
    },
    {
     "name": "stdout",
     "output_type": "stream",
     "text": [
      "23/01/03 06:19:25 WARN DAGScheduler: Broadcasting large task binary with size 7.2 MiB\n"
     ]
    },
    {
     "name": "stderr",
     "output_type": "stream",
     "text": [
      "                                                                                \r"
     ]
    },
    {
     "name": "stdout",
     "output_type": "stream",
     "text": [
      "23/01/03 06:19:26 WARN DAGScheduler: Broadcasting large task binary with size 7.2 MiB\n"
     ]
    },
    {
     "name": "stderr",
     "output_type": "stream",
     "text": [
      "                                                                                \r"
     ]
    },
    {
     "name": "stdout",
     "output_type": "stream",
     "text": [
      "23/01/03 06:19:27 WARN DAGScheduler: Broadcasting large task binary with size 7.2 MiB\n"
     ]
    },
    {
     "name": "stderr",
     "output_type": "stream",
     "text": [
      "                                                                                \r"
     ]
    },
    {
     "name": "stdout",
     "output_type": "stream",
     "text": [
      "23/01/03 06:19:28 WARN DAGScheduler: Broadcasting large task binary with size 7.3 MiB\n"
     ]
    },
    {
     "name": "stderr",
     "output_type": "stream",
     "text": [
      "                                                                                \r"
     ]
    },
    {
     "name": "stdout",
     "output_type": "stream",
     "text": [
      "23/01/03 06:19:29 WARN DAGScheduler: Broadcasting large task binary with size 7.3 MiB\n"
     ]
    },
    {
     "name": "stderr",
     "output_type": "stream",
     "text": [
      "                                                                                \r"
     ]
    },
    {
     "name": "stdout",
     "output_type": "stream",
     "text": [
      "23/01/03 06:19:30 WARN DAGScheduler: Broadcasting large task binary with size 7.4 MiB\n"
     ]
    },
    {
     "name": "stderr",
     "output_type": "stream",
     "text": [
      "                                                                                \r"
     ]
    },
    {
     "name": "stdout",
     "output_type": "stream",
     "text": [
      "23/01/03 06:19:32 WARN DAGScheduler: Broadcasting large task binary with size 7.6 MiB\n"
     ]
    },
    {
     "name": "stderr",
     "output_type": "stream",
     "text": [
      "                                                                                \r"
     ]
    },
    {
     "name": "stdout",
     "output_type": "stream",
     "text": [
      "23/01/03 06:19:34 WARN DAGScheduler: Broadcasting large task binary with size 7.6 MiB\n"
     ]
    },
    {
     "name": "stderr",
     "output_type": "stream",
     "text": [
      "                                                                                \r"
     ]
    },
    {
     "name": "stdout",
     "output_type": "stream",
     "text": [
      "23/01/03 06:19:35 WARN DAGScheduler: Broadcasting large task binary with size 7.6 MiB\n"
     ]
    },
    {
     "name": "stderr",
     "output_type": "stream",
     "text": [
      "                                                                                \r"
     ]
    },
    {
     "name": "stdout",
     "output_type": "stream",
     "text": [
      "23/01/03 06:19:36 WARN DAGScheduler: Broadcasting large task binary with size 7.6 MiB\n"
     ]
    },
    {
     "name": "stderr",
     "output_type": "stream",
     "text": [
      "                                                                                \r"
     ]
    },
    {
     "name": "stdout",
     "output_type": "stream",
     "text": [
      "23/01/03 06:19:37 WARN DAGScheduler: Broadcasting large task binary with size 7.6 MiB\n"
     ]
    },
    {
     "name": "stderr",
     "output_type": "stream",
     "text": [
      "                                                                                \r"
     ]
    },
    {
     "name": "stdout",
     "output_type": "stream",
     "text": [
      "23/01/03 06:19:39 WARN DAGScheduler: Broadcasting large task binary with size 7.6 MiB\n"
     ]
    },
    {
     "name": "stderr",
     "output_type": "stream",
     "text": [
      "                                                                                \r"
     ]
    },
    {
     "name": "stdout",
     "output_type": "stream",
     "text": [
      "23/01/03 06:19:40 WARN DAGScheduler: Broadcasting large task binary with size 7.6 MiB\n"
     ]
    },
    {
     "name": "stderr",
     "output_type": "stream",
     "text": [
      "                                                                                \r"
     ]
    },
    {
     "name": "stdout",
     "output_type": "stream",
     "text": [
      "23/01/03 06:19:41 WARN DAGScheduler: Broadcasting large task binary with size 7.6 MiB\n"
     ]
    },
    {
     "name": "stderr",
     "output_type": "stream",
     "text": [
      "                                                                                \r"
     ]
    },
    {
     "name": "stdout",
     "output_type": "stream",
     "text": [
      "23/01/03 06:19:42 WARN DAGScheduler: Broadcasting large task binary with size 7.6 MiB\n"
     ]
    },
    {
     "name": "stderr",
     "output_type": "stream",
     "text": [
      "                                                                                \r"
     ]
    },
    {
     "name": "stdout",
     "output_type": "stream",
     "text": [
      "23/01/03 06:19:43 WARN DAGScheduler: Broadcasting large task binary with size 7.7 MiB\n"
     ]
    },
    {
     "name": "stderr",
     "output_type": "stream",
     "text": [
      "                                                                                \r"
     ]
    },
    {
     "name": "stdout",
     "output_type": "stream",
     "text": [
      "23/01/03 06:19:45 WARN DAGScheduler: Broadcasting large task binary with size 7.7 MiB\n"
     ]
    },
    {
     "name": "stderr",
     "output_type": "stream",
     "text": [
      "                                                                                \r"
     ]
    },
    {
     "name": "stdout",
     "output_type": "stream",
     "text": [
      "23/01/03 06:19:46 WARN DAGScheduler: Broadcasting large task binary with size 7.8 MiB\n"
     ]
    },
    {
     "name": "stderr",
     "output_type": "stream",
     "text": [
      "                                                                                \r"
     ]
    },
    {
     "name": "stdout",
     "output_type": "stream",
     "text": [
      "23/01/03 06:19:47 WARN DAGScheduler: Broadcasting large task binary with size 8.0 MiB\n"
     ]
    },
    {
     "name": "stderr",
     "output_type": "stream",
     "text": [
      "                                                                                \r"
     ]
    },
    {
     "name": "stdout",
     "output_type": "stream",
     "text": [
      "23/01/03 06:19:49 WARN DAGScheduler: Broadcasting large task binary with size 8.0 MiB\n"
     ]
    },
    {
     "name": "stderr",
     "output_type": "stream",
     "text": [
      "                                                                                \r"
     ]
    },
    {
     "name": "stdout",
     "output_type": "stream",
     "text": [
      "23/01/03 06:19:51 WARN DAGScheduler: Broadcasting large task binary with size 8.0 MiB\n"
     ]
    },
    {
     "name": "stderr",
     "output_type": "stream",
     "text": [
      "                                                                                \r"
     ]
    },
    {
     "name": "stdout",
     "output_type": "stream",
     "text": [
      "23/01/03 06:19:52 WARN DAGScheduler: Broadcasting large task binary with size 8.0 MiB\n"
     ]
    },
    {
     "name": "stderr",
     "output_type": "stream",
     "text": [
      "                                                                                \r"
     ]
    },
    {
     "name": "stdout",
     "output_type": "stream",
     "text": [
      "23/01/03 06:19:53 WARN DAGScheduler: Broadcasting large task binary with size 8.0 MiB\n"
     ]
    },
    {
     "name": "stderr",
     "output_type": "stream",
     "text": [
      "                                                                                \r"
     ]
    },
    {
     "name": "stdout",
     "output_type": "stream",
     "text": [
      "23/01/03 06:19:54 WARN DAGScheduler: Broadcasting large task binary with size 8.0 MiB\n"
     ]
    },
    {
     "name": "stderr",
     "output_type": "stream",
     "text": [
      "                                                                                \r"
     ]
    },
    {
     "name": "stdout",
     "output_type": "stream",
     "text": [
      "23/01/03 06:19:56 WARN DAGScheduler: Broadcasting large task binary with size 8.0 MiB\n"
     ]
    },
    {
     "name": "stderr",
     "output_type": "stream",
     "text": [
      "                                                                                \r"
     ]
    },
    {
     "name": "stdout",
     "output_type": "stream",
     "text": [
      "23/01/03 06:19:57 WARN DAGScheduler: Broadcasting large task binary with size 8.0 MiB\n"
     ]
    },
    {
     "name": "stderr",
     "output_type": "stream",
     "text": [
      "                                                                                \r"
     ]
    },
    {
     "name": "stdout",
     "output_type": "stream",
     "text": [
      "23/01/03 06:19:58 WARN DAGScheduler: Broadcasting large task binary with size 8.0 MiB\n"
     ]
    },
    {
     "name": "stderr",
     "output_type": "stream",
     "text": [
      "                                                                                \r"
     ]
    },
    {
     "name": "stdout",
     "output_type": "stream",
     "text": [
      "23/01/03 06:19:59 WARN DAGScheduler: Broadcasting large task binary with size 8.0 MiB\n"
     ]
    },
    {
     "name": "stderr",
     "output_type": "stream",
     "text": [
      "                                                                                \r"
     ]
    },
    {
     "name": "stdout",
     "output_type": "stream",
     "text": [
      "23/01/03 06:20:00 WARN DAGScheduler: Broadcasting large task binary with size 8.1 MiB\n"
     ]
    },
    {
     "name": "stderr",
     "output_type": "stream",
     "text": [
      "                                                                                \r"
     ]
    },
    {
     "name": "stdout",
     "output_type": "stream",
     "text": [
      "23/01/03 06:20:02 WARN DAGScheduler: Broadcasting large task binary with size 8.2 MiB\n"
     ]
    },
    {
     "name": "stderr",
     "output_type": "stream",
     "text": [
      "                                                                                \r"
     ]
    },
    {
     "name": "stdout",
     "output_type": "stream",
     "text": [
      "23/01/03 06:20:03 WARN DAGScheduler: Broadcasting large task binary with size 8.5 MiB\n"
     ]
    },
    {
     "name": "stderr",
     "output_type": "stream",
     "text": [
      "                                                                                \r"
     ]
    },
    {
     "name": "stdout",
     "output_type": "stream",
     "text": [
      "23/01/03 06:20:05 WARN DAGScheduler: Broadcasting large task binary with size 8.5 MiB\n"
     ]
    },
    {
     "name": "stderr",
     "output_type": "stream",
     "text": [
      "                                                                                \r"
     ]
    },
    {
     "name": "stdout",
     "output_type": "stream",
     "text": [
      "23/01/03 06:20:07 WARN DAGScheduler: Broadcasting large task binary with size 8.5 MiB\n"
     ]
    },
    {
     "name": "stderr",
     "output_type": "stream",
     "text": [
      "                                                                                \r"
     ]
    },
    {
     "name": "stdout",
     "output_type": "stream",
     "text": [
      "23/01/03 06:20:09 WARN DAGScheduler: Broadcasting large task binary with size 8.5 MiB\n"
     ]
    },
    {
     "name": "stderr",
     "output_type": "stream",
     "text": [
      "                                                                                \r"
     ]
    },
    {
     "name": "stdout",
     "output_type": "stream",
     "text": [
      "23/01/03 06:20:10 WARN DAGScheduler: Broadcasting large task binary with size 8.5 MiB\n"
     ]
    },
    {
     "name": "stderr",
     "output_type": "stream",
     "text": [
      "                                                                                \r"
     ]
    },
    {
     "name": "stdout",
     "output_type": "stream",
     "text": [
      "23/01/03 06:20:11 WARN DAGScheduler: Broadcasting large task binary with size 8.5 MiB\n"
     ]
    },
    {
     "name": "stderr",
     "output_type": "stream",
     "text": [
      "                                                                                \r"
     ]
    },
    {
     "name": "stdout",
     "output_type": "stream",
     "text": [
      "23/01/03 06:20:12 WARN DAGScheduler: Broadcasting large task binary with size 8.5 MiB\n"
     ]
    },
    {
     "name": "stderr",
     "output_type": "stream",
     "text": [
      "                                                                                \r"
     ]
    },
    {
     "name": "stdout",
     "output_type": "stream",
     "text": [
      "23/01/03 06:20:13 WARN DAGScheduler: Broadcasting large task binary with size 8.5 MiB\n"
     ]
    },
    {
     "name": "stderr",
     "output_type": "stream",
     "text": [
      "                                                                                \r"
     ]
    },
    {
     "name": "stdout",
     "output_type": "stream",
     "text": [
      "23/01/03 06:20:15 WARN DAGScheduler: Broadcasting large task binary with size 8.5 MiB\n"
     ]
    },
    {
     "name": "stderr",
     "output_type": "stream",
     "text": [
      "                                                                                \r"
     ]
    },
    {
     "name": "stdout",
     "output_type": "stream",
     "text": [
      "23/01/03 06:20:16 WARN DAGScheduler: Broadcasting large task binary with size 8.6 MiB\n"
     ]
    },
    {
     "name": "stderr",
     "output_type": "stream",
     "text": [
      "                                                                                \r"
     ]
    },
    {
     "name": "stdout",
     "output_type": "stream",
     "text": [
      "23/01/03 06:20:18 WARN DAGScheduler: Broadcasting large task binary with size 8.6 MiB\n"
     ]
    },
    {
     "name": "stderr",
     "output_type": "stream",
     "text": [
      "                                                                                \r"
     ]
    },
    {
     "name": "stdout",
     "output_type": "stream",
     "text": [
      "23/01/03 06:20:19 WARN DAGScheduler: Broadcasting large task binary with size 8.7 MiB\n"
     ]
    },
    {
     "name": "stderr",
     "output_type": "stream",
     "text": [
      "                                                                                \r"
     ]
    },
    {
     "name": "stdout",
     "output_type": "stream",
     "text": [
      "23/01/03 06:20:20 WARN DAGScheduler: Broadcasting large task binary with size 8.8 MiB\n"
     ]
    },
    {
     "name": "stderr",
     "output_type": "stream",
     "text": [
      "                                                                                \r"
     ]
    },
    {
     "name": "stdout",
     "output_type": "stream",
     "text": [
      "23/01/03 06:20:22 WARN DAGScheduler: Broadcasting large task binary with size 8.8 MiB\n"
     ]
    },
    {
     "name": "stderr",
     "output_type": "stream",
     "text": [
      "                                                                                \r"
     ]
    },
    {
     "name": "stdout",
     "output_type": "stream",
     "text": [
      "23/01/03 06:20:24 WARN DAGScheduler: Broadcasting large task binary with size 8.8 MiB\n"
     ]
    },
    {
     "name": "stderr",
     "output_type": "stream",
     "text": [
      "                                                                                \r"
     ]
    },
    {
     "name": "stdout",
     "output_type": "stream",
     "text": [
      "23/01/03 06:20:25 WARN DAGScheduler: Broadcasting large task binary with size 8.8 MiB\n"
     ]
    },
    {
     "name": "stderr",
     "output_type": "stream",
     "text": [
      "                                                                                \r"
     ]
    },
    {
     "name": "stdout",
     "output_type": "stream",
     "text": [
      "23/01/03 06:20:26 WARN DAGScheduler: Broadcasting large task binary with size 8.8 MiB\n"
     ]
    },
    {
     "name": "stderr",
     "output_type": "stream",
     "text": [
      "                                                                                \r"
     ]
    },
    {
     "name": "stdout",
     "output_type": "stream",
     "text": [
      "23/01/03 06:20:28 WARN DAGScheduler: Broadcasting large task binary with size 8.8 MiB\n"
     ]
    },
    {
     "name": "stderr",
     "output_type": "stream",
     "text": [
      "                                                                                \r"
     ]
    },
    {
     "name": "stdout",
     "output_type": "stream",
     "text": [
      "23/01/03 06:20:29 WARN DAGScheduler: Broadcasting large task binary with size 8.8 MiB\n"
     ]
    },
    {
     "name": "stderr",
     "output_type": "stream",
     "text": [
      "                                                                                \r"
     ]
    },
    {
     "name": "stdout",
     "output_type": "stream",
     "text": [
      "23/01/03 06:20:30 WARN DAGScheduler: Broadcasting large task binary with size 8.9 MiB\n"
     ]
    },
    {
     "name": "stderr",
     "output_type": "stream",
     "text": [
      "                                                                                \r"
     ]
    },
    {
     "name": "stdout",
     "output_type": "stream",
     "text": [
      "23/01/03 06:20:31 WARN DAGScheduler: Broadcasting large task binary with size 8.9 MiB\n"
     ]
    },
    {
     "name": "stderr",
     "output_type": "stream",
     "text": [
      "                                                                                \r"
     ]
    },
    {
     "name": "stdout",
     "output_type": "stream",
     "text": [
      "23/01/03 06:20:33 WARN DAGScheduler: Broadcasting large task binary with size 8.9 MiB\n"
     ]
    },
    {
     "name": "stderr",
     "output_type": "stream",
     "text": [
      "                                                                                \r"
     ]
    },
    {
     "name": "stdout",
     "output_type": "stream",
     "text": [
      "23/01/03 06:20:34 WARN DAGScheduler: Broadcasting large task binary with size 9.0 MiB\n"
     ]
    },
    {
     "name": "stderr",
     "output_type": "stream",
     "text": [
      "                                                                                \r"
     ]
    },
    {
     "name": "stdout",
     "output_type": "stream",
     "text": [
      "23/01/03 06:20:35 WARN DAGScheduler: Broadcasting large task binary with size 9.1 MiB\n"
     ]
    },
    {
     "name": "stderr",
     "output_type": "stream",
     "text": [
      "                                                                                \r"
     ]
    },
    {
     "name": "stdout",
     "output_type": "stream",
     "text": [
      "23/01/03 06:20:37 WARN DAGScheduler: Broadcasting large task binary with size 9.3 MiB\n"
     ]
    },
    {
     "name": "stderr",
     "output_type": "stream",
     "text": [
      "                                                                                \r"
     ]
    }
   ],
   "source": [
    "gbt_model = gbt.fit(train)"
   ]
  },
  {
   "cell_type": "code",
   "execution_count": 68,
   "id": "b2f5eefb",
   "metadata": {
    "execution": {
     "iopub.execute_input": "2023-01-03T06:20:39.423207Z",
     "iopub.status.busy": "2023-01-03T06:20:39.422776Z",
     "iopub.status.idle": "2023-01-03T06:20:40.260499Z",
     "shell.execute_reply": "2023-01-03T06:20:40.259461Z"
    },
    "papermill": {
     "duration": 0.970134,
     "end_time": "2023-01-03T06:20:40.263583",
     "exception": false,
     "start_time": "2023-01-03T06:20:39.293449",
     "status": "completed"
    },
    "tags": []
   },
   "outputs": [
    {
     "name": "stderr",
     "output_type": "stream",
     "text": [
      "WARNING: An illegal reflective access operation has occurred\n",
      "WARNING: Illegal reflective access by org.apache.spark.util.SizeEstimator$ (file:/opt/conda/lib/python3.7/site-packages/pyspark/jars/spark-core_2.12-3.3.1.jar) to field java.nio.charset.Charset.name\n",
      "WARNING: Please consider reporting this to the maintainers of org.apache.spark.util.SizeEstimator$\n",
      "WARNING: Use --illegal-access=warn to enable warnings of further illegal reflective access operations\n",
      "WARNING: All illegal access operations will be denied in a future release\n"
     ]
    }
   ],
   "source": [
    "predictions = gbt_model.transform(test)"
   ]
  },
  {
   "cell_type": "code",
   "execution_count": 69,
   "id": "d1a71509",
   "metadata": {
    "execution": {
     "iopub.execute_input": "2023-01-03T06:20:40.481980Z",
     "iopub.status.busy": "2023-01-03T06:20:40.481568Z",
     "iopub.status.idle": "2023-01-03T06:20:51.715544Z",
     "shell.execute_reply": "2023-01-03T06:20:51.714221Z"
    },
    "papermill": {
     "duration": 11.346356,
     "end_time": "2023-01-03T06:20:51.718528",
     "exception": false,
     "start_time": "2023-01-03T06:20:40.372172",
     "status": "completed"
    },
    "tags": []
   },
   "outputs": [
    {
     "name": "stderr",
     "output_type": "stream",
     "text": [
      "                                                                                \r"
     ]
    },
    {
     "data": {
      "text/plain": [
       "19.354502766444117"
      ]
     },
     "execution_count": 69,
     "metadata": {},
     "output_type": "execute_result"
    }
   ],
   "source": [
    "evaluator = RegressionEvaluator(labelCol=\"salary\", predictionCol=\"prediction\", metricName=\"rmse\")\n",
    "rmse = evaluator.evaluate(predictions)\n",
    "rmse"
   ]
  },
  {
   "cell_type": "code",
   "execution_count": 70,
   "id": "d2650b7f",
   "metadata": {
    "execution": {
     "iopub.execute_input": "2023-01-03T06:20:51.946291Z",
     "iopub.status.busy": "2023-01-03T06:20:51.945843Z",
     "iopub.status.idle": "2023-01-03T06:21:01.781113Z",
     "shell.execute_reply": "2023-01-03T06:21:01.779830Z"
    },
    "papermill": {
     "duration": 9.952075,
     "end_time": "2023-01-03T06:21:01.783720",
     "exception": false,
     "start_time": "2023-01-03T06:20:51.831645",
     "status": "completed"
    },
    "tags": []
   },
   "outputs": [
    {
     "name": "stderr",
     "output_type": "stream",
     "text": [
      "                                                                                \r"
     ]
    },
    {
     "data": {
      "text/plain": [
       "0.7500469486196656"
      ]
     },
     "execution_count": 70,
     "metadata": {},
     "output_type": "execute_result"
    }
   ],
   "source": [
    "evaluator = RegressionEvaluator(labelCol=\"salary\", predictionCol=\"prediction\", metricName=\"r2\")\n",
    "r2 = evaluator.evaluate(predictions)\n",
    "r2"
   ]
  },
  {
   "cell_type": "code",
   "execution_count": 71,
   "id": "8764a80b",
   "metadata": {
    "execution": {
     "iopub.execute_input": "2023-01-03T06:21:02.003547Z",
     "iopub.status.busy": "2023-01-03T06:21:02.003107Z",
     "iopub.status.idle": "2023-01-03T06:21:24.855739Z",
     "shell.execute_reply": "2023-01-03T06:21:24.854375Z"
    },
    "papermill": {
     "duration": 22.965366,
     "end_time": "2023-01-03T06:21:24.858424",
     "exception": false,
     "start_time": "2023-01-03T06:21:01.893058",
     "status": "completed"
    },
    "tags": []
   },
   "outputs": [
    {
     "name": "stderr",
     "output_type": "stream",
     "text": [
      "                                                                                \r"
     ]
    },
    {
     "data": {
      "image/png": "[encoded data removed]",
      "text/plain": [
       "<Figure size 432x288 with 1 Axes>"
      ]
     },
     "metadata": {},
     "output_type": "display_data"
    }
   ],
   "source": [
    "rf_results = predictions.toPandas()\n",
    "sns.scatterplot(x='salary', y='prediction', data=rf_results, color='blue')\n",
    "plt.plot([0, 300], [0, 300])\n",
    "plt.axis([0, 300, 0, 300])\n",
    "plt.xlabel('Actual Salary')\n",
    "plt.ylabel('Predicted Salary')\n",
    "plt.suptitle(\"RMSE: {:.2f} k$ R2: {:.2f} %\".format(rmse, r2*100))\n",
    "plt.title('Actual Salary VS Predicted Salary')\n",
    "plt.show()"
   ]
  },
  {
   "cell_type": "code",
   "execution_count": 72,
   "id": "62356e59",
   "metadata": {
    "execution": {
     "iopub.execute_input": "2023-01-03T06:21:25.085107Z",
     "iopub.status.busy": "2023-01-03T06:21:25.084204Z",
     "iopub.status.idle": "2023-01-03T06:21:25.090844Z",
     "shell.execute_reply": "2023-01-03T06:21:25.089472Z"
    },
    "papermill": {
     "duration": 0.122103,
     "end_time": "2023-01-03T06:21:25.093221",
     "exception": false,
     "start_time": "2023-01-03T06:21:24.971118",
     "status": "completed"
    },
    "tags": []
   },
   "outputs": [
    {
     "name": "stdout",
     "output_type": "stream",
     "text": [
      "RMSE: 19.35 \n",
      "R2: 75.00 %\n"
     ]
    }
   ],
   "source": [
    "print(\"RMSE: {:.2f} \\nR2: {:.2f} %\".format(rmse, r2*100))"
   ]
  },
  {
   "cell_type": "code",
   "execution_count": 73,
   "id": "3f82efdd",
   "metadata": {
    "execution": {
     "iopub.execute_input": "2023-01-03T06:21:25.318711Z",
     "iopub.status.busy": "2023-01-03T06:21:25.317800Z",
     "iopub.status.idle": "2023-01-03T06:21:25.833257Z",
     "shell.execute_reply": "2023-01-03T06:21:25.832078Z"
    },
    "papermill": {
     "duration": 0.63143,
     "end_time": "2023-01-03T06:21:25.836053",
     "exception": false,
     "start_time": "2023-01-03T06:21:25.204623",
     "status": "completed"
    },
    "tags": []
   },
   "outputs": [],
   "source": [
    "sc.stop()"
   ]
  },
  {
   "cell_type": "code",
   "execution_count": null,
   "id": "71fdf7f1",
   "metadata": {
    "papermill": {
     "duration": 0.113336,
     "end_time": "2023-01-03T06:21:26.127471",
     "exception": false,
     "start_time": "2023-01-03T06:21:26.014135",
     "status": "completed"
    },
    "tags": []
   },
   "outputs": [],
   "source": []
  }
 ],
 "metadata": {
  "kernelspec": {
   "display_name": "Python 3",
   "language": "python",
   "name": "python3"
  },
  "language_info": {
   "codemirror_mode": {
    "name": "ipython",
    "version": 3
   },
   "file_extension": ".py",
   "mimetype": "text/x-python",
   "name": "python",
   "nbconvert_exporter": "python",
   "pygments_lexer": "ipython3",
   "version": "3.7.12"
  },
  "papermill": {
   "default_parameters": {},
   "duration": 766.666357,
   "end_time": "2023-01-03T06:21:28.864446",
   "environment_variables": {},
   "exception": null,
   "input_path": "__notebook__.ipynb",
   "output_path": "__notebook__.ipynb",
   "parameters": {},
   "start_time": "2023-01-03T06:08:42.198089",
   "version": "2.3.4"
  }
 },
 "nbformat": 4,
 "nbformat_minor": 5
}
